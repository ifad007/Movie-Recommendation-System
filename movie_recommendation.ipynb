{
  "nbformat": 4,
  "nbformat_minor": 0,
  "metadata": {
    "colab": {
      "name": "movie_recommendation.ipynb",
      "provenance": [],
      "collapsed_sections": []
    },
    "kernelspec": {
      "name": "python3",
      "display_name": "Python 3"
    },
    "language_info": {
      "name": "python"
    }
  },
  "cells": [
    {
      "cell_type": "code",
      "execution_count": 5,
      "metadata": {
        "id": "uUPd1D0JVp-q"
      },
      "outputs": [],
      "source": [
        "import pandas as pd\n",
        "import difflib\n",
        "from sklearn.feature_extraction.text import TfidfVectorizer\n",
        "from sklearn.metrics.pairwise import cosine_similarity\n",
        "import numpy as np\n",
        "movie = pd.read_csv('movies.csv')"
      ]
    },
    {
      "cell_type": "code",
      "source": [
        "movie.head(4270)"
      ],
      "metadata": {
        "id": "lrm55AGlO2ia",
        "colab": {
          "base_uri": "https://localhost:8080/",
          "height": 1000
        },
        "outputId": "c2b8e42f-55c4-4a27-c224-806431cc6192"
      },
      "execution_count": 6,
      "outputs": [
        {
          "output_type": "execute_result",
          "data": {
            "text/plain": [
              "      index     budget                                         genres  \\\n",
              "0         0  237000000       Action Adventure Fantasy Science Fiction   \n",
              "1         1  300000000                       Adventure Fantasy Action   \n",
              "2         2  245000000                         Action Adventure Crime   \n",
              "3         3  250000000                    Action Crime Drama Thriller   \n",
              "4         4  260000000               Action Adventure Science Fiction   \n",
              "...     ...        ...                                            ...   \n",
              "4265   4265          0                           Drama Crime Thriller   \n",
              "4266   4266          0                                Thriller Horror   \n",
              "4267   4267    1377800  Family Adventure Comedy Science Fiction Crime   \n",
              "4268   4268    1350000                                   Comedy Crime   \n",
              "4269   4269          0                                        Western   \n",
              "\n",
              "                                               homepage      id  \\\n",
              "0                           http://www.avatarmovie.com/   19995   \n",
              "1          http://disney.go.com/disneypictures/pirates/     285   \n",
              "2           http://www.sonypictures.com/movies/spectre/  206647   \n",
              "3                    http://www.thedarkknightrises.com/   49026   \n",
              "4                  http://movies.disney.com/john-carter   49529   \n",
              "...                                                 ...     ...   \n",
              "4265                                                NaN  266034   \n",
              "4266                http://houseattheendofthedrive.com/  280381   \n",
              "4267                                                NaN    2661   \n",
              "4268  http://www.universalstudiosentertainment.com/l...     100   \n",
              "4269                                                NaN  218500   \n",
              "\n",
              "                                               keywords original_language  \\\n",
              "0     culture clash future space war space colony so...                en   \n",
              "1     ocean drug abuse exotic island east india trad...                en   \n",
              "2            spy based on novel secret agent sequel mi6                en   \n",
              "3     dc comics crime fighter terrorist secret ident...                en   \n",
              "4     based on novel mars medallion space travel pri...                en   \n",
              "...                                                 ...               ...   \n",
              "4265  murder suspense love affair police interrogati...                fr   \n",
              "4266                                        ghost story                en   \n",
              "4267    submarine dc comics missile shark attack rescue                en   \n",
              "4268                   ambush alcohol shotgun tea joint                en   \n",
              "4269                                                NaN                en   \n",
              "\n",
              "                                original_title  \\\n",
              "0                                       Avatar   \n",
              "1     Pirates of the Caribbean: At World's End   \n",
              "2                                      Spectre   \n",
              "3                        The Dark Knight Rises   \n",
              "4                                  John Carter   \n",
              "...                                        ...   \n",
              "4265                          La chambre bleue   \n",
              "4266             House at the End of the Drive   \n",
              "4267                                    Batman   \n",
              "4268       Lock, Stock and Two Smoking Barrels   \n",
              "4269             The Ballad of Gregorio Cortez   \n",
              "\n",
              "                                               overview  popularity  ...  \\\n",
              "0     In the 22nd century, a paraplegic Marine is di...  150.437577  ...   \n",
              "1     Captain Barbossa, long believed to be dead, ha...  139.082615  ...   \n",
              "2     A cryptic message from Bond’s past sends him o...  107.376788  ...   \n",
              "3     Following the death of District Attorney Harve...  112.312950  ...   \n",
              "4     John Carter is a war-weary, former military ca...   43.926995  ...   \n",
              "...                                                 ...         ...  ...   \n",
              "4265  A man and a woman, secretly in love, alone in ...    2.486992  ...   \n",
              "4266  When David King purchases a house in the hills...    0.430490  ...   \n",
              "4267  The Dynamic Duo faces four super-villains who ...    9.815394  ...   \n",
              "4268  A card sharp and his unwillingly-enlisted frie...   16.032594  ...   \n",
              "4269  The entire cause of the problem evolves from t...    0.592821  ...   \n",
              "\n",
              "     runtime                                   spoken_languages    status  \\\n",
              "0      162.0  [{\"iso_639_1\": \"en\", \"name\": \"English\"}, {\"iso...  Released   \n",
              "1      169.0           [{\"iso_639_1\": \"en\", \"name\": \"English\"}]  Released   \n",
              "2      148.0  [{\"iso_639_1\": \"fr\", \"name\": \"Fran\\u00e7ais\"},...  Released   \n",
              "3      165.0           [{\"iso_639_1\": \"en\", \"name\": \"English\"}]  Released   \n",
              "4      132.0           [{\"iso_639_1\": \"en\", \"name\": \"English\"}]  Released   \n",
              "...      ...                                                ...       ...   \n",
              "4265    75.0     [{\"iso_639_1\": \"fr\", \"name\": \"Fran\\u00e7ais\"}]  Released   \n",
              "4266    91.0           [{\"iso_639_1\": \"en\", \"name\": \"English\"}]  Released   \n",
              "4267   105.0           [{\"iso_639_1\": \"en\", \"name\": \"English\"}]  Released   \n",
              "4268   105.0           [{\"iso_639_1\": \"en\", \"name\": \"English\"}]  Released   \n",
              "4269   104.0           [{\"iso_639_1\": \"en\", \"name\": \"English\"}]  Released   \n",
              "\n",
              "                                             tagline  \\\n",
              "0                        Enter the World of Pandora.   \n",
              "1     At the end of the world, the adventure begins.   \n",
              "2                              A Plan No One Escapes   \n",
              "3                                    The Legend Ends   \n",
              "4               Lost in our world, found in another.   \n",
              "...                                              ...   \n",
              "4265                                             NaN   \n",
              "4266                           It's where they died.   \n",
              "4267        He's Here Big As Life In A Real Bat-Epic   \n",
              "4268             A Disgrace to Criminals Everywhere.   \n",
              "4269                                             NaN   \n",
              "\n",
              "                                         title vote_average vote_count  \\\n",
              "0                                       Avatar          7.2      11800   \n",
              "1     Pirates of the Caribbean: At World's End          6.9       4500   \n",
              "2                                      Spectre          6.3       4466   \n",
              "3                        The Dark Knight Rises          7.6       9106   \n",
              "4                                  John Carter          6.1       2124   \n",
              "...                                        ...          ...        ...   \n",
              "4265                             The Blue Room          6.2         32   \n",
              "4266             House at the End of the Drive          0.0          0   \n",
              "4267                                    Batman          6.1        203   \n",
              "4268       Lock, Stock and Two Smoking Barrels          7.5       1648   \n",
              "4269             The Ballad of Gregorio Cortez          0.0          0   \n",
              "\n",
              "                                                   cast  \\\n",
              "0     Sam Worthington Zoe Saldana Sigourney Weaver S...   \n",
              "1     Johnny Depp Orlando Bloom Keira Knightley Stel...   \n",
              "2     Daniel Craig Christoph Waltz L\\u00e9a Seydoux ...   \n",
              "3     Christian Bale Michael Caine Gary Oldman Anne ...   \n",
              "4     Taylor Kitsch Lynn Collins Samantha Morton Wil...   \n",
              "...                                                 ...   \n",
              "4265  Mathieu Amalric L\\u00e9a Drucker St\\u00e9phani...   \n",
              "4266  James Oliver Jonathan Mangum Alison Raimondi A...   \n",
              "4267  Adam West Burt Ward Lee Meriwether Cesar Romer...   \n",
              "4268  Jason Flemyng Dexter Fletcher Nick Moran Jason...   \n",
              "4269          Edward James Olmos James Gammon Tom Bower   \n",
              "\n",
              "                                                   crew             director  \n",
              "0     [{'name': 'Stephen E. Rivkin', 'gender': 0, 'd...        James Cameron  \n",
              "1     [{'name': 'Dariusz Wolski', 'gender': 2, 'depa...       Gore Verbinski  \n",
              "2     [{'name': 'Thomas Newman', 'gender': 2, 'depar...           Sam Mendes  \n",
              "3     [{'name': 'Hans Zimmer', 'gender': 2, 'departm...    Christopher Nolan  \n",
              "4     [{'name': 'Andrew Stanton', 'gender': 2, 'depa...       Andrew Stanton  \n",
              "...                                                 ...                  ...  \n",
              "4265  [{'name': 'Fran\\\\u00e7ois G\\\\u00e9digier', 'ge...      Mathieu Amalric  \n",
              "4266  [{'name': 'Alan Howarth', 'gender': 2, 'depart...          David Worth  \n",
              "4267  [{'name': 'Bob Kane', 'gender': 2, 'department...  Leslie H. Martinson  \n",
              "4268  [{'name': 'John Murphy', 'gender': 2, 'departm...          Guy Ritchie  \n",
              "4269  [{'name': 'Robert M. Young', 'gender': 2, 'dep...      Robert M. Young  \n",
              "\n",
              "[4270 rows x 24 columns]"
            ],
            "text/html": [
              "\n",
              "  <div id=\"df-30824390-be61-4f89-85a4-387d9f7e71be\">\n",
              "    <div class=\"colab-df-container\">\n",
              "      <div>\n",
              "<style scoped>\n",
              "    .dataframe tbody tr th:only-of-type {\n",
              "        vertical-align: middle;\n",
              "    }\n",
              "\n",
              "    .dataframe tbody tr th {\n",
              "        vertical-align: top;\n",
              "    }\n",
              "\n",
              "    .dataframe thead th {\n",
              "        text-align: right;\n",
              "    }\n",
              "</style>\n",
              "<table border=\"1\" class=\"dataframe\">\n",
              "  <thead>\n",
              "    <tr style=\"text-align: right;\">\n",
              "      <th></th>\n",
              "      <th>index</th>\n",
              "      <th>budget</th>\n",
              "      <th>genres</th>\n",
              "      <th>homepage</th>\n",
              "      <th>id</th>\n",
              "      <th>keywords</th>\n",
              "      <th>original_language</th>\n",
              "      <th>original_title</th>\n",
              "      <th>overview</th>\n",
              "      <th>popularity</th>\n",
              "      <th>...</th>\n",
              "      <th>runtime</th>\n",
              "      <th>spoken_languages</th>\n",
              "      <th>status</th>\n",
              "      <th>tagline</th>\n",
              "      <th>title</th>\n",
              "      <th>vote_average</th>\n",
              "      <th>vote_count</th>\n",
              "      <th>cast</th>\n",
              "      <th>crew</th>\n",
              "      <th>director</th>\n",
              "    </tr>\n",
              "  </thead>\n",
              "  <tbody>\n",
              "    <tr>\n",
              "      <th>0</th>\n",
              "      <td>0</td>\n",
              "      <td>237000000</td>\n",
              "      <td>Action Adventure Fantasy Science Fiction</td>\n",
              "      <td>http://www.avatarmovie.com/</td>\n",
              "      <td>19995</td>\n",
              "      <td>culture clash future space war space colony so...</td>\n",
              "      <td>en</td>\n",
              "      <td>Avatar</td>\n",
              "      <td>In the 22nd century, a paraplegic Marine is di...</td>\n",
              "      <td>150.437577</td>\n",
              "      <td>...</td>\n",
              "      <td>162.0</td>\n",
              "      <td>[{\"iso_639_1\": \"en\", \"name\": \"English\"}, {\"iso...</td>\n",
              "      <td>Released</td>\n",
              "      <td>Enter the World of Pandora.</td>\n",
              "      <td>Avatar</td>\n",
              "      <td>7.2</td>\n",
              "      <td>11800</td>\n",
              "      <td>Sam Worthington Zoe Saldana Sigourney Weaver S...</td>\n",
              "      <td>[{'name': 'Stephen E. Rivkin', 'gender': 0, 'd...</td>\n",
              "      <td>James Cameron</td>\n",
              "    </tr>\n",
              "    <tr>\n",
              "      <th>1</th>\n",
              "      <td>1</td>\n",
              "      <td>300000000</td>\n",
              "      <td>Adventure Fantasy Action</td>\n",
              "      <td>http://disney.go.com/disneypictures/pirates/</td>\n",
              "      <td>285</td>\n",
              "      <td>ocean drug abuse exotic island east india trad...</td>\n",
              "      <td>en</td>\n",
              "      <td>Pirates of the Caribbean: At World's End</td>\n",
              "      <td>Captain Barbossa, long believed to be dead, ha...</td>\n",
              "      <td>139.082615</td>\n",
              "      <td>...</td>\n",
              "      <td>169.0</td>\n",
              "      <td>[{\"iso_639_1\": \"en\", \"name\": \"English\"}]</td>\n",
              "      <td>Released</td>\n",
              "      <td>At the end of the world, the adventure begins.</td>\n",
              "      <td>Pirates of the Caribbean: At World's End</td>\n",
              "      <td>6.9</td>\n",
              "      <td>4500</td>\n",
              "      <td>Johnny Depp Orlando Bloom Keira Knightley Stel...</td>\n",
              "      <td>[{'name': 'Dariusz Wolski', 'gender': 2, 'depa...</td>\n",
              "      <td>Gore Verbinski</td>\n",
              "    </tr>\n",
              "    <tr>\n",
              "      <th>2</th>\n",
              "      <td>2</td>\n",
              "      <td>245000000</td>\n",
              "      <td>Action Adventure Crime</td>\n",
              "      <td>http://www.sonypictures.com/movies/spectre/</td>\n",
              "      <td>206647</td>\n",
              "      <td>spy based on novel secret agent sequel mi6</td>\n",
              "      <td>en</td>\n",
              "      <td>Spectre</td>\n",
              "      <td>A cryptic message from Bond’s past sends him o...</td>\n",
              "      <td>107.376788</td>\n",
              "      <td>...</td>\n",
              "      <td>148.0</td>\n",
              "      <td>[{\"iso_639_1\": \"fr\", \"name\": \"Fran\\u00e7ais\"},...</td>\n",
              "      <td>Released</td>\n",
              "      <td>A Plan No One Escapes</td>\n",
              "      <td>Spectre</td>\n",
              "      <td>6.3</td>\n",
              "      <td>4466</td>\n",
              "      <td>Daniel Craig Christoph Waltz L\\u00e9a Seydoux ...</td>\n",
              "      <td>[{'name': 'Thomas Newman', 'gender': 2, 'depar...</td>\n",
              "      <td>Sam Mendes</td>\n",
              "    </tr>\n",
              "    <tr>\n",
              "      <th>3</th>\n",
              "      <td>3</td>\n",
              "      <td>250000000</td>\n",
              "      <td>Action Crime Drama Thriller</td>\n",
              "      <td>http://www.thedarkknightrises.com/</td>\n",
              "      <td>49026</td>\n",
              "      <td>dc comics crime fighter terrorist secret ident...</td>\n",
              "      <td>en</td>\n",
              "      <td>The Dark Knight Rises</td>\n",
              "      <td>Following the death of District Attorney Harve...</td>\n",
              "      <td>112.312950</td>\n",
              "      <td>...</td>\n",
              "      <td>165.0</td>\n",
              "      <td>[{\"iso_639_1\": \"en\", \"name\": \"English\"}]</td>\n",
              "      <td>Released</td>\n",
              "      <td>The Legend Ends</td>\n",
              "      <td>The Dark Knight Rises</td>\n",
              "      <td>7.6</td>\n",
              "      <td>9106</td>\n",
              "      <td>Christian Bale Michael Caine Gary Oldman Anne ...</td>\n",
              "      <td>[{'name': 'Hans Zimmer', 'gender': 2, 'departm...</td>\n",
              "      <td>Christopher Nolan</td>\n",
              "    </tr>\n",
              "    <tr>\n",
              "      <th>4</th>\n",
              "      <td>4</td>\n",
              "      <td>260000000</td>\n",
              "      <td>Action Adventure Science Fiction</td>\n",
              "      <td>http://movies.disney.com/john-carter</td>\n",
              "      <td>49529</td>\n",
              "      <td>based on novel mars medallion space travel pri...</td>\n",
              "      <td>en</td>\n",
              "      <td>John Carter</td>\n",
              "      <td>John Carter is a war-weary, former military ca...</td>\n",
              "      <td>43.926995</td>\n",
              "      <td>...</td>\n",
              "      <td>132.0</td>\n",
              "      <td>[{\"iso_639_1\": \"en\", \"name\": \"English\"}]</td>\n",
              "      <td>Released</td>\n",
              "      <td>Lost in our world, found in another.</td>\n",
              "      <td>John Carter</td>\n",
              "      <td>6.1</td>\n",
              "      <td>2124</td>\n",
              "      <td>Taylor Kitsch Lynn Collins Samantha Morton Wil...</td>\n",
              "      <td>[{'name': 'Andrew Stanton', 'gender': 2, 'depa...</td>\n",
              "      <td>Andrew Stanton</td>\n",
              "    </tr>\n",
              "    <tr>\n",
              "      <th>...</th>\n",
              "      <td>...</td>\n",
              "      <td>...</td>\n",
              "      <td>...</td>\n",
              "      <td>...</td>\n",
              "      <td>...</td>\n",
              "      <td>...</td>\n",
              "      <td>...</td>\n",
              "      <td>...</td>\n",
              "      <td>...</td>\n",
              "      <td>...</td>\n",
              "      <td>...</td>\n",
              "      <td>...</td>\n",
              "      <td>...</td>\n",
              "      <td>...</td>\n",
              "      <td>...</td>\n",
              "      <td>...</td>\n",
              "      <td>...</td>\n",
              "      <td>...</td>\n",
              "      <td>...</td>\n",
              "      <td>...</td>\n",
              "      <td>...</td>\n",
              "    </tr>\n",
              "    <tr>\n",
              "      <th>4265</th>\n",
              "      <td>4265</td>\n",
              "      <td>0</td>\n",
              "      <td>Drama Crime Thriller</td>\n",
              "      <td>NaN</td>\n",
              "      <td>266034</td>\n",
              "      <td>murder suspense love affair police interrogati...</td>\n",
              "      <td>fr</td>\n",
              "      <td>La chambre bleue</td>\n",
              "      <td>A man and a woman, secretly in love, alone in ...</td>\n",
              "      <td>2.486992</td>\n",
              "      <td>...</td>\n",
              "      <td>75.0</td>\n",
              "      <td>[{\"iso_639_1\": \"fr\", \"name\": \"Fran\\u00e7ais\"}]</td>\n",
              "      <td>Released</td>\n",
              "      <td>NaN</td>\n",
              "      <td>The Blue Room</td>\n",
              "      <td>6.2</td>\n",
              "      <td>32</td>\n",
              "      <td>Mathieu Amalric L\\u00e9a Drucker St\\u00e9phani...</td>\n",
              "      <td>[{'name': 'Fran\\\\u00e7ois G\\\\u00e9digier', 'ge...</td>\n",
              "      <td>Mathieu Amalric</td>\n",
              "    </tr>\n",
              "    <tr>\n",
              "      <th>4266</th>\n",
              "      <td>4266</td>\n",
              "      <td>0</td>\n",
              "      <td>Thriller Horror</td>\n",
              "      <td>http://houseattheendofthedrive.com/</td>\n",
              "      <td>280381</td>\n",
              "      <td>ghost story</td>\n",
              "      <td>en</td>\n",
              "      <td>House at the End of the Drive</td>\n",
              "      <td>When David King purchases a house in the hills...</td>\n",
              "      <td>0.430490</td>\n",
              "      <td>...</td>\n",
              "      <td>91.0</td>\n",
              "      <td>[{\"iso_639_1\": \"en\", \"name\": \"English\"}]</td>\n",
              "      <td>Released</td>\n",
              "      <td>It's where they died.</td>\n",
              "      <td>House at the End of the Drive</td>\n",
              "      <td>0.0</td>\n",
              "      <td>0</td>\n",
              "      <td>James Oliver Jonathan Mangum Alison Raimondi A...</td>\n",
              "      <td>[{'name': 'Alan Howarth', 'gender': 2, 'depart...</td>\n",
              "      <td>David Worth</td>\n",
              "    </tr>\n",
              "    <tr>\n",
              "      <th>4267</th>\n",
              "      <td>4267</td>\n",
              "      <td>1377800</td>\n",
              "      <td>Family Adventure Comedy Science Fiction Crime</td>\n",
              "      <td>NaN</td>\n",
              "      <td>2661</td>\n",
              "      <td>submarine dc comics missile shark attack rescue</td>\n",
              "      <td>en</td>\n",
              "      <td>Batman</td>\n",
              "      <td>The Dynamic Duo faces four super-villains who ...</td>\n",
              "      <td>9.815394</td>\n",
              "      <td>...</td>\n",
              "      <td>105.0</td>\n",
              "      <td>[{\"iso_639_1\": \"en\", \"name\": \"English\"}]</td>\n",
              "      <td>Released</td>\n",
              "      <td>He's Here Big As Life In A Real Bat-Epic</td>\n",
              "      <td>Batman</td>\n",
              "      <td>6.1</td>\n",
              "      <td>203</td>\n",
              "      <td>Adam West Burt Ward Lee Meriwether Cesar Romer...</td>\n",
              "      <td>[{'name': 'Bob Kane', 'gender': 2, 'department...</td>\n",
              "      <td>Leslie H. Martinson</td>\n",
              "    </tr>\n",
              "    <tr>\n",
              "      <th>4268</th>\n",
              "      <td>4268</td>\n",
              "      <td>1350000</td>\n",
              "      <td>Comedy Crime</td>\n",
              "      <td>http://www.universalstudiosentertainment.com/l...</td>\n",
              "      <td>100</td>\n",
              "      <td>ambush alcohol shotgun tea joint</td>\n",
              "      <td>en</td>\n",
              "      <td>Lock, Stock and Two Smoking Barrels</td>\n",
              "      <td>A card sharp and his unwillingly-enlisted frie...</td>\n",
              "      <td>16.032594</td>\n",
              "      <td>...</td>\n",
              "      <td>105.0</td>\n",
              "      <td>[{\"iso_639_1\": \"en\", \"name\": \"English\"}]</td>\n",
              "      <td>Released</td>\n",
              "      <td>A Disgrace to Criminals Everywhere.</td>\n",
              "      <td>Lock, Stock and Two Smoking Barrels</td>\n",
              "      <td>7.5</td>\n",
              "      <td>1648</td>\n",
              "      <td>Jason Flemyng Dexter Fletcher Nick Moran Jason...</td>\n",
              "      <td>[{'name': 'John Murphy', 'gender': 2, 'departm...</td>\n",
              "      <td>Guy Ritchie</td>\n",
              "    </tr>\n",
              "    <tr>\n",
              "      <th>4269</th>\n",
              "      <td>4269</td>\n",
              "      <td>0</td>\n",
              "      <td>Western</td>\n",
              "      <td>NaN</td>\n",
              "      <td>218500</td>\n",
              "      <td>NaN</td>\n",
              "      <td>en</td>\n",
              "      <td>The Ballad of Gregorio Cortez</td>\n",
              "      <td>The entire cause of the problem evolves from t...</td>\n",
              "      <td>0.592821</td>\n",
              "      <td>...</td>\n",
              "      <td>104.0</td>\n",
              "      <td>[{\"iso_639_1\": \"en\", \"name\": \"English\"}]</td>\n",
              "      <td>Released</td>\n",
              "      <td>NaN</td>\n",
              "      <td>The Ballad of Gregorio Cortez</td>\n",
              "      <td>0.0</td>\n",
              "      <td>0</td>\n",
              "      <td>Edward James Olmos James Gammon Tom Bower</td>\n",
              "      <td>[{'name': 'Robert M. Young', 'gender': 2, 'dep...</td>\n",
              "      <td>Robert M. Young</td>\n",
              "    </tr>\n",
              "  </tbody>\n",
              "</table>\n",
              "<p>4270 rows × 24 columns</p>\n",
              "</div>\n",
              "      <button class=\"colab-df-convert\" onclick=\"convertToInteractive('df-30824390-be61-4f89-85a4-387d9f7e71be')\"\n",
              "              title=\"Convert this dataframe to an interactive table.\"\n",
              "              style=\"display:none;\">\n",
              "        \n",
              "  <svg xmlns=\"http://www.w3.org/2000/svg\" height=\"24px\"viewBox=\"0 0 24 24\"\n",
              "       width=\"24px\">\n",
              "    <path d=\"M0 0h24v24H0V0z\" fill=\"none\"/>\n",
              "    <path d=\"M18.56 5.44l.94 2.06.94-2.06 2.06-.94-2.06-.94-.94-2.06-.94 2.06-2.06.94zm-11 1L8.5 8.5l.94-2.06 2.06-.94-2.06-.94L8.5 2.5l-.94 2.06-2.06.94zm10 10l.94 2.06.94-2.06 2.06-.94-2.06-.94-.94-2.06-.94 2.06-2.06.94z\"/><path d=\"M17.41 7.96l-1.37-1.37c-.4-.4-.92-.59-1.43-.59-.52 0-1.04.2-1.43.59L10.3 9.45l-7.72 7.72c-.78.78-.78 2.05 0 2.83L4 21.41c.39.39.9.59 1.41.59.51 0 1.02-.2 1.41-.59l7.78-7.78 2.81-2.81c.8-.78.8-2.07 0-2.86zM5.41 20L4 18.59l7.72-7.72 1.47 1.35L5.41 20z\"/>\n",
              "  </svg>\n",
              "      </button>\n",
              "      \n",
              "  <style>\n",
              "    .colab-df-container {\n",
              "      display:flex;\n",
              "      flex-wrap:wrap;\n",
              "      gap: 12px;\n",
              "    }\n",
              "\n",
              "    .colab-df-convert {\n",
              "      background-color: #E8F0FE;\n",
              "      border: none;\n",
              "      border-radius: 50%;\n",
              "      cursor: pointer;\n",
              "      display: none;\n",
              "      fill: #1967D2;\n",
              "      height: 32px;\n",
              "      padding: 0 0 0 0;\n",
              "      width: 32px;\n",
              "    }\n",
              "\n",
              "    .colab-df-convert:hover {\n",
              "      background-color: #E2EBFA;\n",
              "      box-shadow: 0px 1px 2px rgba(60, 64, 67, 0.3), 0px 1px 3px 1px rgba(60, 64, 67, 0.15);\n",
              "      fill: #174EA6;\n",
              "    }\n",
              "\n",
              "    [theme=dark] .colab-df-convert {\n",
              "      background-color: #3B4455;\n",
              "      fill: #D2E3FC;\n",
              "    }\n",
              "\n",
              "    [theme=dark] .colab-df-convert:hover {\n",
              "      background-color: #434B5C;\n",
              "      box-shadow: 0px 1px 3px 1px rgba(0, 0, 0, 0.15);\n",
              "      filter: drop-shadow(0px 1px 2px rgba(0, 0, 0, 0.3));\n",
              "      fill: #FFFFFF;\n",
              "    }\n",
              "  </style>\n",
              "\n",
              "      <script>\n",
              "        const buttonEl =\n",
              "          document.querySelector('#df-30824390-be61-4f89-85a4-387d9f7e71be button.colab-df-convert');\n",
              "        buttonEl.style.display =\n",
              "          google.colab.kernel.accessAllowed ? 'block' : 'none';\n",
              "\n",
              "        async function convertToInteractive(key) {\n",
              "          const element = document.querySelector('#df-30824390-be61-4f89-85a4-387d9f7e71be');\n",
              "          const dataTable =\n",
              "            await google.colab.kernel.invokeFunction('convertToInteractive',\n",
              "                                                     [key], {});\n",
              "          if (!dataTable) return;\n",
              "\n",
              "          const docLinkHtml = 'Like what you see? Visit the ' +\n",
              "            '<a target=\"_blank\" href=https://colab.research.google.com/notebooks/data_table.ipynb>data table notebook</a>'\n",
              "            + ' to learn more about interactive tables.';\n",
              "          element.innerHTML = '';\n",
              "          dataTable['output_type'] = 'display_data';\n",
              "          await google.colab.output.renderOutput(dataTable, element);\n",
              "          const docLink = document.createElement('div');\n",
              "          docLink.innerHTML = docLinkHtml;\n",
              "          element.appendChild(docLink);\n",
              "        }\n",
              "      </script>\n",
              "    </div>\n",
              "  </div>\n",
              "  "
            ]
          },
          "metadata": {},
          "execution_count": 6
        }
      ]
    },
    {
      "cell_type": "code",
      "source": [
        "#movie.shape"
      ],
      "metadata": {
        "id": "5qmVOFvjUHNV"
      },
      "execution_count": 7,
      "outputs": []
    },
    {
      "cell_type": "code",
      "source": [
        "#movie.isnull().sum()"
      ],
      "metadata": {
        "id": "3NoPq5BrUJOs"
      },
      "execution_count": 8,
      "outputs": []
    },
    {
      "cell_type": "code",
      "source": [
        "for i in movie:\n",
        "  movie[i] = movie[i].fillna('')"
      ],
      "metadata": {
        "id": "ZHs2xY8Pc8C4"
      },
      "execution_count": 9,
      "outputs": []
    },
    {
      "cell_type": "code",
      "source": [
        "#movie.isnull().sum()"
      ],
      "metadata": {
        "id": "PtODJdnGQSi-"
      },
      "execution_count": 10,
      "outputs": []
    },
    {
      "cell_type": "code",
      "source": [
        "#movie.shape"
      ],
      "metadata": {
        "id": "lkad_LruQcNu"
      },
      "execution_count": 11,
      "outputs": []
    },
    {
      "cell_type": "code",
      "source": [
        "features = movie['genres']+''+ movie['keywords']+''+ movie['tagline']+''+ movie['tagline'] + movie['cast']+''+movie['director'] "
      ],
      "metadata": {
        "id": "aocCM1Uzbbq6"
      },
      "execution_count": 12,
      "outputs": []
    },
    {
      "cell_type": "code",
      "source": [
        "#features"
      ],
      "metadata": {
        "id": "ITJhVGAgcyhw"
      },
      "execution_count": 13,
      "outputs": []
    },
    {
      "cell_type": "code",
      "source": [
        "feature_vector =  TfidfVectorizer().fit_transform(features)"
      ],
      "metadata": {
        "id": "3QYJ0921GJRx"
      },
      "execution_count": 14,
      "outputs": []
    },
    {
      "cell_type": "code",
      "source": [
        "#print(type(feature_vector))"
      ],
      "metadata": {
        "id": "35JX1FGqeXx5"
      },
      "execution_count": 15,
      "outputs": []
    },
    {
      "cell_type": "code",
      "source": [
        "simi = cosine_similarity(feature_vector)"
      ],
      "metadata": {
        "id": "iYC5LEs_escH"
      },
      "execution_count": 16,
      "outputs": []
    },
    {
      "cell_type": "code",
      "source": [
        "print(type(simi))\n",
        "print(simi)"
      ],
      "metadata": {
        "id": "y3uopc3XosLP",
        "colab": {
          "base_uri": "https://localhost:8080/"
        },
        "outputId": "b43df328-a651-43cd-ae7e-9bd42638c6dc"
      },
      "execution_count": 45,
      "outputs": [
        {
          "output_type": "stream",
          "name": "stdout",
          "text": [
            "<class 'numpy.ndarray'>\n",
            "[[1.         0.13298388 0.01102938 ... 0.         0.         0.        ]\n",
            " [0.13298388 1.         0.0343628  ... 0.02955521 0.         0.        ]\n",
            " [0.01102938 0.0343628  1.         ... 0.         0.         0.        ]\n",
            " ...\n",
            " [0.         0.02955521 0.         ... 1.         0.         0.        ]\n",
            " [0.         0.         0.         ... 0.         1.         0.        ]\n",
            " [0.         0.         0.         ... 0.         0.         1.        ]]\n"
          ]
        }
      ]
    },
    {
      "cell_type": "code",
      "source": [
        "list1 = movie['title'].tolist()"
      ],
      "metadata": {
        "id": "98Oxf4wNHEO4"
      },
      "execution_count": 18,
      "outputs": []
    },
    {
      "cell_type": "code",
      "source": [
        "name = input('Movie Name')\n",
        "close_match = difflib.get_close_matches(name, list1)\n",
        "target = close_match[0]\n",
        "print(target)"
      ],
      "metadata": {
        "id": "XM-Lr6PrQgs3",
        "colab": {
          "base_uri": "https://localhost:8080/"
        },
        "outputId": "17bb996d-846f-44b6-c43b-27a4bb47662b"
      },
      "execution_count": 32,
      "outputs": [
        {
          "output_type": "stream",
          "name": "stdout",
          "text": [
            "Movie NameAvatar\n",
            "Avatar\n"
          ]
        }
      ]
    },
    {
      "cell_type": "code",
      "source": [
        "Tindex0 = movie[movie.title == target]['index']\n",
        "Tindex0"
      ],
      "metadata": {
        "colab": {
          "base_uri": "https://localhost:8080/"
        },
        "id": "GhCcK_MgylpG",
        "outputId": "19aa5349-f903-4a29-bd7a-33f8fbddeded"
      },
      "execution_count": 33,
      "outputs": [
        {
          "output_type": "execute_result",
          "data": {
            "text/plain": [
              "0    0\n",
              "Name: index, dtype: int64"
            ]
          },
          "metadata": {},
          "execution_count": 33
        }
      ]
    },
    {
      "cell_type": "code",
      "source": [
        "Tindex = movie[movie.title == target]['index'].values[0]\n",
        "Tindex"
      ],
      "metadata": {
        "colab": {
          "base_uri": "https://localhost:8080/"
        },
        "id": "ANPQAyv8ri_d",
        "outputId": "5f857f96-efe0-4dc1-e87c-dee928cb8b71"
      },
      "execution_count": 34,
      "outputs": [
        {
          "output_type": "execute_result",
          "data": {
            "text/plain": [
              "0"
            ]
          },
          "metadata": {},
          "execution_count": 34
        }
      ]
    },
    {
      "cell_type": "code",
      "source": [
        "similarity_score = list(enumerate(simi[Tindex]))"
      ],
      "metadata": {
        "id": "9W7iBZUoy3Mt"
      },
      "execution_count": 42,
      "outputs": []
    },
    {
      "cell_type": "code",
      "source": [
        "print(similarity_score)"
      ],
      "metadata": {
        "colab": {
          "base_uri": "https://localhost:8080/"
        },
        "id": "dFsb7mCuXL6O",
        "outputId": "86122273-faca-4188-cc2e-8ff7b8c6bff7"
      },
      "execution_count": 43,
      "outputs": [
        {
          "output_type": "stream",
          "name": "stdout",
          "text": [
            "[(0, 1.0000000000000002), (1, 0.13298388293537255), (2, 0.011029383031338727), (3, 0.005312335511461831), (4, 0.0990581282638777), (5, 0.03540765474436591), (6, 0.01166282416117353), (7, 0.018565836524954044), (8, 0.030886514265405667), (9, 0.010994152082486625), (10, 0.07970559427495927), (11, 0.008610069595484224), (12, 0.018388750189059475), (13, 0.025015200333299605), (14, 0.05683394073989247), (15, 0.0061719549620202225), (16, 0.011103029275876579), (17, 0.010066528068755867), (18, 0.019357933389237296), (19, 0.04842503650697125), (20, 0.028646651332645347), (21, 0.0034034246136214925), (22, 0.03354338978404419), (23, 0.03861788596037888), (24, 0.08767292789211828), (25, 0.02022705148655964), (26, 0.04977836115599068), (27, 0.01617946579808835), (28, 0.025184399685821368), (29, 0.011442808373697162), (30, 0.04479778119764069), (31, 0.05569266311396291), (32, 0.017170974633102513), (33, 0.020589589770288706), (34, 0.0), (35, 0.013769765658953144), (36, 0.036146648898804694), (37, 0.03532946618329324), (38, 0.011515176727369025), (39, 0.0259488226900711), (40, 0.014355945959013678), (41, 0.015279157907361948), (42, 0.0), (43, 0.1154913086195209), (44, 0.02020821173724871), (45, 0.011733740236265857), (46, 0.08421680808286629), (47, 0.09618821416078674), (48, 0.005049786885380448), (49, 0.0255332171780698), (50, 0.04028404665419303), (51, 0.010145860644768192), (52, 0.014183776013366949), (53, 0.06040230790812096), (54, 0.005797897300514602), (55, 0.006883013937657018), (56, 0.11497783667183212), (57, 0.028229143927729478), (58, 0.014559557118114524), (59, 0.059348287399170495), (60, 0.0), (61, 0.06726688589622312), (62, 0.0048838889513932995), (63, 0.032154946932755224), (64, 0.022753140019273435), (65, 0.004706601329118217), (66, 0.008017229421875093), (67, 0.012492008807140211), (68, 0.01044269334375423), (69, 0.05648948007567163), (70, 0.018518002613900887), (71, 0.012443679930363657), (72, 0.029806148336478606), (73, 0.03319891644799168), (74, 0.012983926899835819), (75, 0.031030485395873796), (76, 0.01723485835386816), (77, 0.01286714225634929), (78, 0.00805847649022315), (79, 0.048312449440657164), (80, 0.03673602877540977), (81, 0.054263858251950896), (82, 0.05687238144930771), (83, 0.019034751589436082), (84, 0.008695513589102352), (85, 0.04076685689602266), (86, 0.03635754820510466), (87, 0.05904504598984863), (88, 0.04283060507227048), (89, 0.02233728817355338), (90, 0.005876798175737996), (91, 0.015215694140723315), (92, 0.029448469455196913), (93, 0.04796417270187191), (94, 0.1481864112766948), (95, 0.034934473281401264), (96, 0.07185498327594976), (97, 0.014498878572433474), (98, 0.03666607089205512), (99, 0.021708025350217264), (100, 0.008506225716346705), (101, 0.0717218576413695), (102, 0.036680954776468544), (103, 0.034480752199144836), (104, 0.027646382729935935), (105, 0.0), (106, 0.04938015470344852), (107, 0.011263427439320047), (108, 0.06062116922764867), (109, 0.003908065821541877), (110, 0.025806629351529525), (111, 0.0948036294631527), (112, 0.05141095078188383), (113, 0.034277539048936205), (114, 0.023549162558601122), (115, 0.018454013997148806), (116, 0.04909402939826665), (117, 0.004906096203203864), (118, 0.0), (119, 0.019338110181540243), (120, 0.00680997397114783), (121, 0.04396488730048032), (122, 0.03557944262500727), (123, 0.043629431205424146), (124, 0.03427317343458937), (125, 0.050216779700031106), (126, 0.025740988794869718), (127, 0.01919283383781062), (128, 0.0), (129, 0.017015669832931346), (130, 0.005039454546274571), (131, 0.07222388332153881), (132, 0.05917121097915144), (133, 0.030062562038443864), (134, 0.009325962934455256), (135, 0.02461801691208045), (136, 0.005624019505971628), (137, 0.03632835546414), (138, 0.023073651715043143), (139, 0.01293809503192175), (140, 0.011014072463947217), (141, 0.09047219502530035), (142, 0.007081590248890123), (143, 0.006446180785723625), (144, 0.006048280137952638), (145, 0.004268378826653), (146, 0.0), (147, 0.04817857064476862), (148, 0.015379826520473542), (149, 0.035724748524620445), (150, 0.08756461337187603), (151, 0.010356034858679905), (152, 0.021973310348728514), (153, 0.0037689200864590255), (154, 0.010660632391487202), (155, 0.0), (156, 0.10534522971790958), (157, 0.006356526243613658), (158, 0.11011799313834035), (159, 0.01784763828488304), (160, 0.02866113018874613), (161, 0.0), (162, 0.04332932636492243), (163, 0.028444619315431397), (164, 0.03885058919382864), (165, 0.052687171608725936), (166, 0.02480637263243725), (167, 0.023073689726102836), (168, 0.030626992120270206), (169, 0.05180739868460332), (170, 0.026995520075677654), (171, 0.04805342857242854), (172, 0.014714726622686074), (173, 0.0), (174, 0.01013993065713129), (175, 0.053215964411568735), (176, 0.017402597191998957), (177, 0.0), (178, 0.0), (179, 0.005546259030257932), (180, 0.004601034437253604), (181, 0.006461717572612027), (182, 0.011272167697521325), (183, 0.017594512739542413), (184, 0.07240096597480028), (185, 0.013377524191815728), (186, 0.039123384906879666), (187, 0.008386144267524378), (188, 0.004837104161778511), (189, 0.10843328089850643), (190, 0.016024541177730642), (191, 0.022272505065132002), (192, 0.03773725454785212), (193, 0.012695779173922069), (194, 0.0), (195, 0.029176192866811276), (196, 0.055270433772568975), (197, 0.03851262573709041), (198, 0.02863375605417815), (199, 0.046942767086651474), (200, 0.03962318907639129), (201, 0.016427846555822863), (202, 0.005669795862873955), (203, 0.020012646802082958), (204, 0.018288040637115945), (205, 0.018570520984804745), (206, 0.14915384398489762), (207, 0.015242282693269962), (208, 0.031526156581460754), (209, 0.004842897256581781), (210, 0.004284190692664798), (211, 0.013645765022585304), (212, 0.05140501881497759), (213, 0.0273210386669582), (214, 0.007550770174663751), (215, 0.07522449736142821), (216, 0.0226909898824255), (217, 0.03306802527187192), (218, 0.005422407013676055), (219, 0.04711661809284533), (220, 0.015842863954832892), (221, 0.006275316571808034), (222, 0.056400224754170794), (223, 0.08236384019194214), (224, 0.07702852754218056), (225, 0.029436168079218592), (226, 0.0), (227, 0.02352781364045778), (228, 0.053972828331011496), (229, 0.02049426005618705), (230, 0.011528834768503256), (231, 0.0), (232, 0.04424137760572983), (233, 0.011695851281441332), (234, 0.02119568321825735), (235, 0.01872382703437514), (236, 0.04166614940053417), (237, 0.010014499597858027), (238, 0.02250850942449644), (239, 0.05091947553824258), (240, 0.017517484285913182), (241, 0.04149068174523235), (242, 0.020809596118789016), (243, 0.011001017708206134), (244, 0.0033323109918198452), (245, 0.04924426460683782), (246, 0.021534742906766297), (247, 0.013728822738805536), (248, 0.004973590101366072), (249, 0.012900311332240712), (250, 0.03203935750035985), (251, 0.0), (252, 0.0414965576921286), (253, 0.004274726802826509), (254, 0.006279132761208883), (255, 0.0), (256, 0.05011321547241768), (257, 0.01142221657193876), (258, 0.010099307635861672), (259, 0.030449108741803826), (260, 0.012671665694621314), (261, 0.01233224410469796), (262, 0.01523045493349461), (263, 0.010223118021474107), (264, 0.0), (265, 0.023386839834310492), (266, 0.011682930820486678), (267, 0.056690435933489644), (268, 0.010228611868707826), (269, 0.0), (270, 0.015661162372349404), (271, 0.02594875425407144), (272, 0.0), (273, 0.004201861271118745), (274, 0.004932683062099797), (275, 0.03360048852297983), (276, 0.023360910688779046), (277, 0.00964985212779413), (278, 0.07865513696442099), (279, 0.03640254280899994), (280, 0.0), (281, 0.013424921028292706), (282, 0.018260873171097442), (283, 0.01692525425486422), (284, 0.0), (285, 0.02194401445101373), (286, 0.03932543872532662), (287, 0.03347308082288161), (288, 0.0), (289, 0.006110543486687963), (290, 0.04228367167663417), (291, 0.026815434616811032), (292, 0.04961764221658232), (293, 0.021566402283439787), (294, 0.058041675167077554), (295, 0.004157335156764227), (296, 0.032451773510738496), (297, 0.011435639027823458), (298, 0.0), (299, 0.004791483388034533), (300, 0.04814755368707213), (301, 0.03232048940883642), (302, 0.005647502417898251), (303, 0.005245758803297648), (304, 0.004092178996306261), (305, 0.09079176646807555), (306, 0.01404805744443925), (307, 0.009077321268656003), (308, 0.004087734141941192), (309, 0.012491228040503084), (310, 0.02132692775182128), (311, 0.058985691798451284), (312, 0.02645870590762195), (313, 0.025721627583648408), (314, 0.02723485389781954), (315, 0.022546257675110443), (316, 0.0480914006649728), (317, 0.0), (318, 0.04117963991132781), (319, 0.03957166506131393), (320, 0.03065326647776425), (321, 0.013804205207488658), (322, 0.07299966430763087), (323, 0.0), (324, 0.039275166910297435), (325, 0.011521157259133781), (326, 0.02607111707536356), (327, 0.038166811949104824), (328, 0.010687875496367787), (329, 0.05634574899784414), (330, 0.016035286859749236), (331, 0.034550884253991346), (332, 0.024853444562159217), (333, 0.0061690735706502655), (334, 0.04562574763032132), (335, 0.012210054269611328), (336, 0.04729442688010792), (337, 0.003318884023198361), (338, 0.0), (339, 0.011611720722989976), (340, 0.03712610789675615), (341, 0.018238404329554803), (342, 0.1064707830050876), (343, 0.007402823344480392), (344, 0.002707433378746113), (345, 0.004849780702918759), (346, 0.024977993983491216), (347, 0.0), (348, 0.0), (349, 0.005822849483486448), (350, 0.013199596002379885), (351, 0.0), (352, 0.025759357932972765), (353, 0.008092140171318533), (354, 0.0), (355, 0.0042068617608991676), (356, 0.011279475939183457), (357, 0.0), (358, 0.013905044609604978), (359, 0.0063488327378678), (360, 0.0), (361, 0.059137271784647824), (362, 0.036231248715089204), (363, 0.018118116211561192), (364, 0.01998295021765413), (365, 0.08398249469609506), (366, 0.014718176075827611), (367, 0.01760713281786461), (368, 0.004903046973288738), (369, 0.17336389440708888), (370, 0.010290293874754202), (371, 0.01248811867705604), (372, 0.03909109241856227), (373, 0.05548575205407642), (374, 0.052825788445642216), (375, 0.02049970023868123), (376, 0.011772565155888983), (377, 0.03444914918548619), (378, 0.0), (379, 0.014949330886012007), (380, 0.03134985965108172), (381, 0.022188009968169123), (382, 0.02503850794621565), (383, 0.037722935801934684), (384, 0.09439715294314235), (385, 0.0), (386, 0.004314170898266108), (387, 0.06064205073953552), (388, 0.0), (389, 0.01047760702609711), (390, 0.0), (391, 0.008554197298461198), (392, 0.00493522814586801), (393, 0.013273581770564157), (394, 0.004408163882327513), (395, 0.01390489606727235), (396, 0.004168280524657092), (397, 0.0), (398, 0.0322886127404044), (399, 0.0044932851679058425), (400, 0.029717239738874177), (401, 0.035904615921923906), (402, 0.028224588636925722), (403, 0.03176457468879391), (404, 0.05092253063189776), (405, 0.03134340009752386), (406, 0.0), (407, 0.008969786819648131), (408, 0.0042336696527212805), (409, 0.0), (410, 0.028380484923753974), (411, 0.02441900338756363), (412, 0.035210069381453636), (413, 0.025458941367890474), (414, 0.028225705574889414), (415, 0.0146241668053491), (416, 0.008432183217664299), (417, 0.02890891330936557), (418, 0.0), (419, 0.03970181008225438), (420, 0.10654368050909312), (421, 0.0), (422, 0.02588793458165202), (423, 0.011025730996881127), (424, 0.006814629546050334), (425, 0.028804353627859245), (426, 0.024924672859421175), (427, 0.0), (428, 0.05658267399991089), (429, 0.01193247141245644), (430, 0.0), (431, 0.006686690832498829), (432, 0.043798664083709256), (433, 0.012911106495851858), (434, 0.0), (435, 0.009431024340703618), (436, 0.0), (437, 0.06936847714426729), (438, 0.0), (439, 0.020652081402644497), (440, 0.0), (441, 0.025985104531953837), (442, 0.009068137327256063), (443, 0.009303167644436604), (444, 0.006866009070280969), (445, 0.0), (446, 0.01662607808304978), (447, 0.01960978160824353), (448, 0.05769315963345059), (449, 0.009035351820736679), (450, 0.0076901906290278545), (451, 0.009640403179346639), (452, 0.0), (453, 0.005048579631292472), (454, 0.028835742631407625), (455, 0.003705946294425424), (456, 0.04551847898517683), (457, 0.008844097969039818), (458, 0.0), (459, 0.006378835879547196), (460, 0.0), (461, 0.062442864346963826), (462, 0.011631176964584568), (463, 0.06320134727167191), (464, 0.0), (465, 0.0), (466, 0.03309658787279034), (467, 0.011751384768767265), (468, 0.019788132525607738), (469, 0.00967945972027199), (470, 0.034045568247511475), (471, 0.007136893644897318), (472, 0.019691025463482906), (473, 0.04628280098763997), (474, 0.0), (475, 0.0166182360954838), (476, 0.022153503823076577), (477, 0.0), (478, 0.009628373300137686), (479, 0.01200341614966553), (480, 0.02895425716704998), (481, 0.0), (482, 0.0), (483, 0.048038453134313), (484, 0.015316716339001422), (485, 0.02687766698199691), (486, 0.015404426770736265), (487, 0.028794078622146845), (488, 0.019370021810834394), (489, 0.06160536911024925), (490, 0.012311358645110897), (491, 0.009814394646748742), (492, 0.0), (493, 0.009259719900312359), (494, 0.048581358655565746), (495, 0.04414860745005431), (496, 0.023015538114477443), (497, 0.016814201389152173), (498, 0.0), (499, 0.012214063082063922), (500, 0.0044767162228898285), (501, 0.024520545703505703), (502, 0.004539793195252867), (503, 0.03296378821547879), (504, 0.0), (505, 0.0913514890032955), (506, 0.0), (507, 0.016097773958807314), (508, 0.018806432401444802), (509, 0.0), (510, 0.09659129544051684), (511, 0.02124817000147631), (512, 0.029825785093245336), (513, 0.00706965260645021), (514, 0.005356635554565125), (515, 0.027198933225848425), (516, 0.05990849306872721), (517, 0.013634171890972468), (518, 0.0382407716993239), (519, 0.0), (520, 0.0), (521, 0.0), (522, 0.0), (523, 0.017758261560942137), (524, 0.0), (525, 0.03423729413725394), (526, 0.0), (527, 0.018018956856401657), (528, 0.06108200986309941), (529, 0.003307981336231365), (530, 0.004654598941961859), (531, 0.08910267044595144), (532, 0.0), (533, 0.027743426235168095), (534, 0.005031958610689332), (535, 0.026616099364020065), (536, 0.013718843593804746), (537, 0.021426971599705375), (538, 0.01966627255379549), (539, 0.08290350974649524), (540, 0.015771197364263037), (541, 0.01540911226243803), (542, 0.01579675313459379), (543, 0.031357180520619685), (544, 0.043694523601021336), (545, 0.005997088437421412), (546, 0.025253234053600415), (547, 0.028241965200375002), (548, 0.010442318562914278), (549, 0.06629807796332454), (550, 0.0), (551, 0.0), (552, 0.0), (553, 0.0038590078988224967), (554, 0.019676414346956016), (555, 0.0070447866930887105), (556, 0.003605946133520615), (557, 0.01509386424239106), (558, 0.006013678680083744), (559, 0.0), (560, 0.034810130708158915), (561, 0.011485672437463769), (562, 0.030119754702815013), (563, 0.01304717337578138), (564, 0.0065033286837209575), (565, 0.028221798078055336), (566, 0.011619498147097224), (567, 0.0), (568, 0.04286320587730998), (569, 0.05261749832615631), (570, 0.015863723213970036), (571, 0.0038620357974417712), (572, 0.024416775476073835), (573, 0.005504321609904019), (574, 0.02972294946332439), (575, 0.026416408476430394), (576, 0.008468851232595463), (577, 0.08289253410487293), (578, 0.015360919277873513), (579, 0.021371660544498548), (580, 0.0035405016681723787), (581, 0.02224028093376537), (582, 0.06772723038970989), (583, 0.024589709199587608), (584, 0.03086484521501431), (585, 0.02642868092342373), (586, 0.0640062368044978), (587, 0.048642067877823165), (588, 0.0), (589, 0.014714634911783942), (590, 0.0038876681974420913), (591, 0.046269391051691144), (592, 0.08819324752441599), (593, 0.0), (594, 0.009156354886166646), (595, 0.04130685917452464), (596, 0.022539422397984624), (597, 0.03994680968955444), (598, 0.0), (599, 0.055191116675283154), (600, 0.029848136228793398), (601, 0.014074181960524528), (602, 0.028990378290991808), (603, 0.009400484113767772), (604, 0.010461850128647077), (605, 0.0), (606, 0.0), (607, 0.01216125785966199), (608, 0.013474240774751196), (609, 0.011921055161395118), (610, 0.016068814747895593), (611, 0.01410740004706798), (612, 0.016949923507388068), (613, 0.0043739085569764755), (614, 0.0), (615, 0.017333196789550837), (616, 0.0), (617, 0.0550145704497431), (618, 0.03242407741418943), (619, 0.0), (620, 0.023718267425232795), (621, 0.00399726977663501), (622, 0.004508785112478748), (623, 0.0), (624, 0.023899413493775442), (625, 0.007201319438650156), (626, 0.026341639728950046), (627, 0.0636589579702152), (628, 0.07228447052304746), (629, 0.003713935133073927), (630, 0.010553369885872896), (631, 0.009034943353236988), (632, 0.06064069026705546), (633, 0.03156172698307673), (634, 0.10685787917223104), (635, 0.0), (636, 0.00844299706795678), (637, 0.0), (638, 0.04190757010915991), (639, 0.0), (640, 0.0037893049144663276), (641, 0.01888896190420994), (642, 0.03584872827401644), (643, 0.11266093534767757), (644, 0.054530023256791293), (645, 0.01090510945270366), (646, 0.007917718563880334), (647, 0.04011382965265315), (648, 0.03186789433645587), (649, 0.0), (650, 0.0), (651, 0.021397126052662318), (652, 0.013329507711462173), (653, 0.004694067620780126), (654, 0.018975835616921084), (655, 0.005513605484606276), (656, 0.02551090544442373), (657, 0.031801287521736395), (658, 0.021774565042773475), (659, 0.004326455722057024), (660, 0.015461667684292944), (661, 0.020181285515326802), (662, 0.0), (663, 0.014971858650543035), (664, 0.010572961985668934), (665, 0.00855812044007536), (666, 0.03126171987763714), (667, 0.0), (668, 0.004962814957362478), (669, 0.0), (670, 0.05329924500364102), (671, 0.029859570285056865), (672, 0.024423585682134288), (673, 0.0214081435653193), (674, 0.014735805007850461), (675, 0.05118700654528219), (676, 0.04011979147201382), (677, 0.10042879784253143), (678, 0.03477556454730886), (679, 0.0), (680, 0.029674064827010196), (681, 0.06647022797140162), (682, 0.0), (683, 0.010852100898691815), (684, 0.0), (685, 0.004738526956480536), (686, 0.0), (687, 0.010604616928878971), (688, 0.0), (689, 0.017816559545020406), (690, 0.011078505857329404), (691, 0.020956724973566418), (692, 0.0746821193365772), (693, 0.0), (694, 0.0275238059445696), (695, 0.008349287324598935), (696, 0.01582609156648349), (697, 0.014088598389771207), (698, 0.03518453433156614), (699, 0.0), (700, 0.004751810281045077), (701, 0.0), (702, 0.004205638462219525), (703, 0.0), (704, 0.005785812853592942), (705, 0.0), (706, 0.01460565509339232), (707, 0.011688561830725863), (708, 0.01872317952544554), (709, 0.0), (710, 0.011677215753710224), (711, 0.007825700119971638), (712, 0.021473201344213398), (713, 0.02190794099049333), (714, 0.0), (715, 0.01776788149394689), (716, 0.023382512381390618), (717, 0.006823052624353733), (718, 0.009832622170656839), (719, 0.0), (720, 0.038080586385425955), (721, 0.017483303829894097), (722, 0.02229862799409835), (723, 0.01471633293736943), (724, 0.0037527598256341084), (725, 0.0), (726, 0.01626903328566551), (727, 0.0), (728, 0.030169244979880147), (729, 0.0), (730, 0.015869800060672026), (731, 0.021391768090704037), (732, 0.08799548441327112), (733, 0.014841673476872274), (734, 0.005633849997269373), (735, 0.022913802303767883), (736, 0.03475617452050126), (737, 0.0052805678635857636), (738, 0.0), (739, 0.046563678985664846), (740, 0.06490437884785788), (741, 0.013517137352491475), (742, 0.0), (743, 0.0496727346223796), (744, 0.03603787361825258), (745, 0.004215662336625175), (746, 0.010236266056591947), (747, 0.0038955495272014026), (748, 0.0), (749, 0.0), (750, 0.018960225880445505), (751, 0.0), (752, 0.03126782973055519), (753, 0.014960381490148444), (754, 0.006099441189550049), (755, 0.01702141770058528), (756, 0.0), (757, 0.0), (758, 0.024727957744370845), (759, 0.01745762796266317), (760, 0.0), (761, 0.026101753846289367), (762, 0.016201556486347957), (763, 0.022632645721324986), (764, 0.047289470903337245), (765, 0.0), (766, 0.007041732714848925), (767, 0.027001223039294007), (768, 0.026501721430117583), (769, 0.02739186696879937), (770, 0.11187941225562287), (771, 0.0), (772, 0.011397347988112245), (773, 0.02684383126059879), (774, 0.004892078511181661), (775, 0.11086252201580062), (776, 0.009575613893801078), (777, 0.011228032709274067), (778, 0.07485874802487112), (779, 0.04371721327255302), (780, 0.0), (781, 0.01021530418297276), (782, 0.03016618669333791), (783, 0.0), (784, 0.0371126989150797), (785, 0.017615453133045862), (786, 0.013850061473465061), (787, 0.06370856859159016), (788, 0.044761479534537796), (789, 0.0068257622428391776), (790, 0.018616310428373365), (791, 0.024956115570039586), (792, 0.00995884280029678), (793, 0.028137558768931255), (794, 0.022149837114689163), (795, 0.029071286815531314), (796, 0.0), (797, 0.01785554432686114), (798, 0.010052973491256308), (799, 0.03308230680486539), (800, 0.026679556124203495), (801, 0.0), (802, 0.027938628091678665), (803, 0.0), (804, 0.004725504730330415), (805, 0.014102097858478383), (806, 0.0), (807, 0.02006950614571861), (808, 0.010176919607706154), (809, 0.07156840880634659), (810, 0.03305282412333369), (811, 0.012595754795701799), (812, 0.08310952964880088), (813, 0.055088419661974246), (814, 0.014450983660514852), (815, 0.021851296767742164), (816, 0.006959670298453722), (817, 0.0), (818, 0.004670247915719985), (819, 0.0), (820, 0.012085972253365218), (821, 0.003966314862975331), (822, 0.0), (823, 0.004696084020292721), (824, 0.0), (825, 0.008461965405909282), (826, 0.0), (827, 0.007809960917125124), (828, 0.021003936162244573), (829, 0.008086270331938933), (830, 0.02250189189206814), (831, 0.030184735128298026), (832, 0.06716014662819972), (833, 0.028197004335810197), (834, 0.011325311151993946), (835, 0.0), (836, 0.06705327167796929), (837, 0.0), (838, 0.12219897216997327), (839, 0.02918872886713473), (840, 0.003971243020071576), (841, 0.017305421710332402), (842, 0.014757224274345596), (843, 0.0), (844, 0.016246479757261106), (845, 0.0), (846, 0.010526589325077334), (847, 0.02555763254028663), (848, 0.006352562128309713), (849, 0.0), (850, 0.013183908714679022), (851, 0.0), (852, 0.030140202703803427), (853, 0.0), (854, 0.061036889366464314), (855, 0.054794412075262894), (856, 0.021571822121337104), (857, 0.029813492315910586), (858, 0.08466575182408434), (859, 0.011037301463363833), (860, 0.0), (861, 0.010883098646982135), (862, 0.030268789037327066), (863, 0.004984513332426716), (864, 0.013725227596338438), (865, 0.0), (866, 0.005099079225332969), (867, 0.013190693213775764), (868, 0.021325033660887532), (869, 0.011363734266284902), (870, 0.0799775710316926), (871, 0.024871370828796528), (872, 0.0), (873, 0.02467746591700548), (874, 0.05594297462613133), (875, 0.0), (876, 0.0), (877, 0.0), (878, 0.01910768414504581), (879, 0.006872248831836906), (880, 0.0037583880731289635), (881, 0.031265107463246886), (882, 0.0), (883, 0.028739117536355524), (884, 0.0), (885, 0.0), (886, 0.01279536013831294), (887, 0.0), (888, 0.010174409590705064), (889, 0.057602236432129014), (890, 0.0), (891, 0.0), (892, 0.013387084558615214), (893, 0.004027567888419113), (894, 0.003361457956043011), (895, 0.0), (896, 0.04091437207405958), (897, 0.01515660354132352), (898, 0.023573724477860658), (899, 0.03267822947224832), (900, 0.008016558445596943), (901, 0.059480996899710384), (902, 0.0), (903, 0.0), (904, 0.02527002645938067), (905, 0.0), (906, 0.022806118615385427), (907, 0.0), (908, 0.007930175233765293), (909, 0.0), (910, 0.033048237334691366), (911, 0.0), (912, 0.0), (913, 0.0), (914, 0.057573970256825716), (915, 0.0183275093136128), (916, 0.0), (917, 0.010371461301968081), (918, 0.01039191135796714), (919, 0.004403812993919378), (920, 0.03044755167158209), (921, 0.0), (922, 0.06559610068734688), (923, 0.011038253789441356), (924, 0.007382475018537893), (925, 0.0), (926, 0.01809301854772086), (927, 0.0), (928, 0.0), (929, 0.06194347238370375), (930, 0.0411857661962457), (931, 0.025496001740096336), (932, 0.04713463285582101), (933, 0.022475495993757935), (934, 0.015676719649170848), (935, 0.01731934105766196), (936, 0.0), (937, 0.009865887700143289), (938, 0.0), (939, 0.008665911396156183), (940, 0.0), (941, 0.013914258630189217), (942, 0.10942261388328134), (943, 0.0), (944, 0.0), (945, 0.004530245687678638), (946, 0.02293996927371194), (947, 0.010114796338683252), (948, 0.023637475838236312), (949, 0.014078136533010264), (950, 0.0070145183936227064), (951, 0.00489096962356436), (952, 0.005729332267995321), (953, 0.0), (954, 0.0), (955, 0.06002919422643168), (956, 0.012048871574943928), (957, 0.0), (958, 0.007220287141080037), (959, 0.013811681024849297), (960, 0.01307855138313056), (961, 0.005271656044750312), (962, 0.03977393053273315), (963, 0.027812665373820336), (964, 0.021670819261623557), (965, 0.0), (966, 0.0), (967, 0.0), (968, 0.006530548796736472), (969, 0.06394903975940053), (970, 0.0), (971, 0.03665641966581743), (972, 0.04264813428823596), (973, 0.004159540612328752), (974, 0.012294272263855295), (975, 0.0), (976, 0.020442116094426994), (977, 0.11962587559344554), (978, 0.034246135781056515), (979, 0.03264917032703461), (980, 0.021138883756515146), (981, 0.006110501878041935), (982, 0.011941122267227725), (983, 0.0), (984, 0.011465385158418058), (985, 0.014215049056356639), (986, 0.0), (987, 0.0), (988, 0.014948344983847646), (989, 0.00853582912462961), (990, 0.032734936864584875), (991, 0.0), (992, 0.00416817428385167), (993, 0.0043972638686250575), (994, 0.04520303638139944), (995, 0.02068452175577362), (996, 0.0), (997, 0.0), (998, 0.0), (999, 0.004764961832407781), (1000, 0.03757143516332141), (1001, 0.014587841302343304), (1002, 0.05889239338137574), (1003, 0.0037063603109556784), (1004, 0.018968525988290418), (1005, 0.011517151502617794), (1006, 0.044264976505534584), (1007, 0.02135206598992426), (1008, 0.018641146215927405), (1009, 0.0), (1010, 0.0), (1011, 0.0), (1012, 0.02484965637014813), (1013, 0.0), (1014, 0.005191354217224054), (1015, 0.0828505354010112), (1016, 0.03239766205885096), (1017, 0.03860910270245975), (1018, 0.042434017341221965), (1019, 0.021972201389657414), (1020, 0.008017546742237812), (1021, 0.0), (1022, 0.0), (1023, 0.027400763859643462), (1024, 0.007382605247619429), (1025, 0.013089350085517237), (1026, 0.0), (1027, 0.010170095994431486), (1028, 0.03788382783609959), (1029, 0.028439277134481217), (1030, 0.018928960545666763), (1031, 0.05182770665207857), (1032, 0.0), (1033, 0.0), (1034, 0.018177791066288404), (1035, 0.015514758962928612), (1036, 0.009602746126593106), (1037, 0.0), (1038, 0.034747960561490876), (1039, 0.02452285605430605), (1040, 0.009516165520881192), (1041, 0.0036172455042239636), (1042, 0.0), (1043, 0.0), (1044, 0.05976430519224092), (1045, 0.0), (1046, 0.020848707217450295), (1047, 0.013282187725606583), (1048, 0.027772154227388005), (1049, 0.0035705921313566413), (1050, 0.0), (1051, 0.0), (1052, 0.037256920903708024), (1053, 0.10250673117870976), (1054, 0.0), (1055, 0.006824986763416808), (1056, 0.015911655997907757), (1057, 0.013076709782160127), (1058, 0.007662570071378325), (1059, 0.005281276200421514), (1060, 0.0), (1061, 0.007365213416236464), (1062, 0.023636506706397557), (1063, 0.034279547296781405), (1064, 0.015363674703960524), (1065, 0.0), (1066, 0.0), (1067, 0.0), (1068, 0.031402262993116256), (1069, 0.0), (1070, 0.019591053922658516), (1071, 0.0), (1072, 0.0046265052411974235), (1073, 0.011282720254002392), (1074, 0.03584348827047005), (1075, 0.006803895982384951), (1076, 0.02248617705370605), (1077, 0.006496896020679393), (1078, 0.03792072877695579), (1079, 0.04548364277997401), (1080, 0.006453891059568232), (1081, 0.0), (1082, 0.029667501681347908), (1083, 0.05983394211154257), (1084, 0.034849375608908044), (1085, 0.04674961544403483), (1086, 0.04223115799365753), (1087, 0.0), (1088, 0.0), (1089, 0.0067925661102256115), (1090, 0.016233337198519018), (1091, 0.04471956156663022), (1092, 0.0290530367701951), (1093, 0.01822724119850236), (1094, 0.04761498247621364), (1095, 0.015331841699770896), (1096, 0.004498979273618079), (1097, 0.044688500690875974), (1098, 0.0), (1099, 0.09948966082428003), (1100, 0.010027695619548433), (1101, 0.004250250818997636), (1102, 0.018467164065538392), (1103, 0.0191901501949054), (1104, 0.0), (1105, 0.0), (1106, 0.01817276861312837), (1107, 0.0), (1108, 0.0), (1109, 0.019221904200503973), (1110, 0.02058655032869429), (1111, 0.04627735901849577), (1112, 0.01125609718583165), (1113, 0.04043411689821981), (1114, 0.00560167263958628), (1115, 0.036591895429309684), (1116, 0.0), (1117, 0.0), (1118, 0.0183233621705324), (1119, 0.013218044946921659), (1120, 0.08028390989757304), (1121, 0.0), (1122, 0.011845508642601095), (1123, 0.010123759368074045), (1124, 0.009141493106566855), (1125, 0.059636262859104755), (1126, 0.0), (1127, 0.0), (1128, 0.0), (1129, 0.0), (1130, 0.0), (1131, 0.019769311607683318), (1132, 0.023561092244012417), (1133, 0.0048174311098055774), (1134, 0.036735280413560674), (1135, 0.012960422927088617), (1136, 0.01864100410545053), (1137, 0.004094898038674593), (1138, 0.0037967032906157353), (1139, 0.023117050330393293), (1140, 0.004540708867259815), (1141, 0.0), (1142, 0.005181787390772988), (1143, 0.00663293066785908), (1144, 0.017875829360360914), (1145, 0.020399702797963347), (1146, 0.03770607688066251), (1147, 0.0), (1148, 0.0495173258414842), (1149, 0.0), (1150, 0.014532550707629129), (1151, 0.0), (1152, 0.009919234784415757), (1153, 0.025322200813746934), (1154, 0.0), (1155, 0.015289150868209998), (1156, 0.0), (1157, 0.018959436995476493), (1158, 0.026161339481361075), (1159, 0.055621409904212125), (1160, 0.02866403242119641), (1161, 0.0), (1162, 0.027770709009190965), (1163, 0.0352341543828587), (1164, 0.01773228249182864), (1165, 0.019217819080264903), (1166, 0.0), (1167, 0.0), (1168, 0.0), (1169, 0.02357531416855666), (1170, 0.0), (1171, 0.0), (1172, 0.03840411461759201), (1173, 0.0), (1174, 0.003901139041233341), (1175, 0.016657925654003366), (1176, 0.039838486388838856), (1177, 0.013376433823018306), (1178, 0.0772025452767817), (1179, 0.013563224993704805), (1180, 0.0), (1181, 0.007185426924328828), (1182, 0.02660686266779729), (1183, 0.021130708017533667), (1184, 0.0), (1185, 0.0), (1186, 0.0), (1187, 0.10590171736862436), (1188, 0.01539075405753769), (1189, 0.0), (1190, 0.0425023845567659), (1191, 0.052380356032710705), (1192, 0.024798400211250026), (1193, 0.03045680613978401), (1194, 0.021058777930632898), (1195, 0.0049038860350662785), (1196, 0.0), (1197, 0.0), (1198, 0.012134608116764981), (1199, 0.018735183706661065), (1200, 0.02173122370941291), (1201, 0.019068450680936558), (1202, 0.07110135418242727), (1203, 0.038589212952723856), (1204, 0.01666440276211161), (1205, 0.0), (1206, 0.03305495993002064), (1207, 0.0647331991301826), (1208, 0.0), (1209, 0.024494983304083662), (1210, 0.0), (1211, 0.0), (1212, 0.010113377370333217), (1213, 0.04493148350444369), (1214, 0.052856342042561705), (1215, 0.017486123250223043), (1216, 0.01369679713307935), (1217, 0.05480732618027808), (1218, 0.019591633968738562), (1219, 0.0), (1220, 0.022337937413862904), (1221, 0.019457410491401046), (1222, 0.017986443069689377), (1223, 0.0), (1224, 0.0), (1225, 0.0), (1226, 0.007288881914076428), (1227, 0.039151124021216434), (1228, 0.0), (1229, 0.0), (1230, 0.036087186011230024), (1231, 0.008075204216991054), (1232, 0.0), (1233, 0.030210250719407434), (1234, 0.015721275481838777), (1235, 0.0), (1236, 0.0), (1237, 0.008839767768464455), (1238, 0.04358476111996294), (1239, 0.03886164625555551), (1240, 0.033137229607662216), (1241, 0.0), (1242, 0.017786565268669813), (1243, 0.011046156598431379), (1244, 0.03382359165426548), (1245, 0.07300876172355962), (1246, 0.008672241034378312), (1247, 0.011124257604588374), (1248, 0.005293168309477634), (1249, 0.02683063050818817), (1250, 0.00871463403412118), (1251, 0.0), (1252, 0.0), (1253, 0.007444942731299598), (1254, 0.005143023589003203), (1255, 0.012276162690050163), (1256, 0.013907952294618635), (1257, 0.022010183749883363), (1258, 0.0), (1259, 0.07120507044721941), (1260, 0.0), (1261, 0.0), (1262, 0.0), (1263, 0.0332483423752315), (1264, 0.02699492718430032), (1265, 0.03949532195104111), (1266, 0.017926867605643545), (1267, 0.007159968308740271), (1268, 0.0), (1269, 0.01640277508317739), (1270, 0.01196234497880519), (1271, 0.08773900507489817), (1272, 0.06093374658565206), (1273, 0.013605059237928246), (1274, 0.02098906876188885), (1275, 0.0985081053239884), (1276, 0.011314827951828895), (1277, 0.03579344702436074), (1278, 0.022730100742509373), (1279, 0.10586228721824054), (1280, 0.04356296685283233), (1281, 0.0038631842960049003), (1282, 0.09054800589707974), (1283, 0.0), (1284, 0.005670717090434007), (1285, 0.005275647851031182), (1286, 0.03912293120843386), (1287, 0.007083125905413955), (1288, 0.006861195229740739), (1289, 0.017132436898709975), (1290, 0.04016147202390659), (1291, 0.02475227269769245), (1292, 0.010879736084489975), (1293, 0.012070964762994315), (1294, 0.0321453479096216), (1295, 0.0), (1296, 0.08912198469680156), (1297, 0.0), (1298, 0.045938190915141106), (1299, 0.0), (1300, 0.04301367513672284), (1301, 0.007848441003615491), (1302, 0.01100813436149992), (1303, 0.01912550058371921), (1304, 0.012553161225250499), (1305, 0.013365080487042885), (1306, 0.0236369877054756), (1307, 0.0), (1308, 0.0), (1309, 0.030225700064190286), (1310, 0.004087328035578005), (1311, 0.01966469411747052), (1312, 0.012859528952985923), (1313, 0.021061259887036964), (1314, 0.0), (1315, 0.025205650634369726), (1316, 0.0), (1317, 0.020493836200776966), (1318, 0.05780742262973798), (1319, 0.012984871728943682), (1320, 0.04318271183392875), (1321, 0.005650195936613393), (1322, 0.05580683840510748), (1323, 0.0), (1324, 0.00989417715443153), (1325, 0.0), (1326, 0.013998634834360327), (1327, 0.0), (1328, 0.03251105577139629), (1329, 0.019122115249895835), (1330, 0.0), (1331, 0.018315021365339475), (1332, 0.0), (1333, 0.0), (1334, 0.02115508351222313), (1335, 0.01722719984744186), (1336, 0.03421048697099422), (1337, 0.013842778038195355), (1338, 0.0), (1339, 0.004744402819906138), (1340, 0.0), (1341, 0.01741054805450441), (1342, 0.00488119226401244), (1343, 0.00947599996737069), (1344, 0.007710717790005333), (1345, 0.0), (1346, 0.01991962870573402), (1347, 0.013445229835724097), (1348, 0.0), (1349, 0.029847737247196745), (1350, 0.036937380592727186), (1351, 0.0), (1352, 0.020179693745339854), (1353, 0.0), (1354, 0.042652210764903456), (1355, 0.0), (1356, 0.0), (1357, 0.006588326042792799), (1358, 0.051972777448747676), (1359, 0.029471768224659987), (1360, 0.015101552540460106), (1361, 0.016638307048529755), (1362, 0.014571878611067738), (1363, 0.015207819218307796), (1364, 0.02023586375646189), (1365, 0.0162634076711683), (1366, 0.04086549645591411), (1367, 0.03171838556998351), (1368, 0.04281024719517385), (1369, 0.02235281794354834), (1370, 0.03400184085701774), (1371, 0.0), (1372, 0.04793769717743901), (1373, 0.036219483094997604), (1374, 0.0), (1375, 0.06069716709441641), (1376, 0.0), (1377, 0.008250245694072497), (1378, 0.0), (1379, 0.046027423153027075), (1380, 0.07320074490726666), (1381, 0.0), (1382, 0.031543523918758566), (1383, 0.0), (1384, 0.0), (1385, 0.0), (1386, 0.0), (1387, 0.0), (1388, 0.02639124981686581), (1389, 0.0), (1390, 0.05743656138120004), (1391, 0.0), (1392, 0.024724951341822034), (1393, 0.0), (1394, 0.0), (1395, 0.025568641126369127), (1396, 0.0), (1397, 0.022213954420663536), (1398, 0.0), (1399, 0.038359198746503606), (1400, 0.0), (1401, 0.0), (1402, 0.005898845281927294), (1403, 0.02419433200609535), (1404, 0.07474098471967178), (1405, 0.018778715927631737), (1406, 0.05567326928183216), (1407, 0.0), (1408, 0.008336824195954612), (1409, 0.07068157008132045), (1410, 0.03482509241625757), (1411, 0.009765560886415283), (1412, 0.017973822124389454), (1413, 0.011633382220917862), (1414, 0.0), (1415, 0.04408647176834675), (1416, 0.008845318957102735), (1417, 0.00501437227782102), (1418, 0.0), (1419, 0.004032764436804965), (1420, 0.009135013412189332), (1421, 0.0), (1422, 0.02119703884611765), (1423, 0.012467104661320103), (1424, 0.0), (1425, 0.004283720456633412), (1426, 0.0), (1427, 0.0), (1428, 0.04146566132825917), (1429, 0.0), (1430, 0.0), (1431, 0.011885070424706577), (1432, 0.03337614577048479), (1433, 0.013353915787323669), (1434, 0.004050010746508215), (1435, 0.03801789949019313), (1436, 0.0), (1437, 0.004461088738338688), (1438, 0.05351886183622835), (1439, 0.02146866500104451), (1440, 0.026812002307379363), (1441, 0.0), (1442, 0.0), (1443, 0.059345085578687756), (1444, 0.0), (1445, 0.00498232260647482), (1446, 0.0), (1447, 0.010805364735474221), (1448, 0.06810326129633057), (1449, 0.009816543888615581), (1450, 0.004738087978287003), (1451, 0.052105902720006717), (1452, 0.006758393209607802), (1453, 0.057367350221134886), (1454, 0.0), (1455, 0.0), (1456, 0.01588069845141465), (1457, 0.004018507512957185), (1458, 0.0), (1459, 0.0767264378866702), (1460, 0.022506626110580526), (1461, 0.032008076096090306), (1462, 0.0), (1463, 0.00397569495574243), (1464, 0.0), (1465, 0.012149033828543956), (1466, 0.0), (1467, 0.09394858689721075), (1468, 0.06223846068906928), (1469, 0.02516682910668152), (1470, 0.058947779551014136), (1471, 0.042263421696698944), (1472, 0.0), (1473, 0.09583508056063032), (1474, 0.0482877197406728), (1475, 0.0), (1476, 0.0), (1477, 0.01039612301496539), (1478, 0.015058826635444124), (1479, 0.005197190592423222), (1480, 0.0), (1481, 0.01958678051948546), (1482, 0.028286701344011338), (1483, 0.016941209598096064), (1484, 0.013433531501240362), (1485, 0.011234572523494047), (1486, 0.004236044646476075), (1487, 0.020608627213957644), (1488, 0.03469344909955148), (1489, 0.0), (1490, 0.07944952494601369), (1491, 0.010844509559793183), (1492, 0.021203586128218974), (1493, 0.0), (1494, 0.0), (1495, 0.01577050805520405), (1496, 0.005444189801042128), (1497, 0.013063477915181077), (1498, 0.0), (1499, 0.01624853083291006), (1500, 0.09265291326099528), (1501, 0.006737410861598756), (1502, 0.012925659230599205), (1503, 0.005466983591895613), (1504, 0.0), (1505, 0.0), (1506, 0.040281738558758266), (1507, 0.03213773376015541), (1508, 0.02951434146587903), (1509, 0.007875675610070921), (1510, 0.05204946162503596), (1511, 0.0), (1512, 0.01147858511211801), (1513, 0.045724139301656655), (1514, 0.004377270698826351), (1515, 0.01834461040621364), (1516, 0.0), (1517, 0.007586675137409222), (1518, 0.054336524552233215), (1519, 0.015123833456813682), (1520, 0.0), (1521, 0.0), (1522, 0.0), (1523, 0.04319009808069766), (1524, 0.0), (1525, 0.03714744999926928), (1526, 0.0), (1527, 0.03923554511759314), (1528, 0.0), (1529, 0.0), (1530, 0.0), (1531, 0.1459396511174579), (1532, 0.0), (1533, 0.01727332128317453), (1534, 0.0), (1535, 0.05888147342304063), (1536, 0.0), (1537, 0.006090896254332375), (1538, 0.004001179590816615), (1539, 0.0), (1540, 0.009791519363282734), (1541, 0.0), (1542, 0.010502749308064137), (1543, 0.023684437371459345), (1544, 0.0), (1545, 0.012961468227912859), (1546, 0.04244840628068233), (1547, 0.0), (1548, 0.015184935398849679), (1549, 0.0), (1550, 0.0), (1551, 0.0055940764921236135), (1552, 0.0), (1553, 0.0), (1554, 0.0070211439346619), (1555, 0.0), (1556, 0.008284312492681642), (1557, 0.0), (1558, 0.0), (1559, 0.025859375219011743), (1560, 0.013590685567886507), (1561, 0.026286924071603116), (1562, 0.016727248144501685), (1563, 0.017953593528151693), (1564, 0.06908293399010404), (1565, 0.034298946553314835), (1566, 0.0), (1567, 0.0), (1568, 0.059878520320152284), (1569, 0.027598824210937498), (1570, 0.008332344889988809), (1571, 0.011530885383798142), (1572, 0.0), (1573, 0.003774141033547967), (1574, 0.049686848832609584), (1575, 0.0), (1576, 0.015405710878949186), (1577, 0.11333142786575023), (1578, 0.0072345299586983975), (1579, 0.014247560634378216), (1580, 0.021755502788764546), (1581, 0.012640336867549142), (1582, 0.02147286543824188), (1583, 0.038549745271359744), (1584, 0.0), (1585, 0.010300094948573051), (1586, 0.009575325349921362), (1587, 0.006181131438569494), (1588, 0.0), (1589, 0.009940193923547667), (1590, 0.02430753671047355), (1591, 0.0), (1592, 0.0037063210990346007), (1593, 0.0), (1594, 0.009743894025407927), (1595, 0.04896749886989932), (1596, 0.010242661655163812), (1597, 0.006036692013635151), (1598, 0.027383540965941703), (1599, 0.010774058281672319), (1600, 0.0), (1601, 0.0), (1602, 0.017527251879412627), (1603, 0.009262116260854363), (1604, 0.0), (1605, 0.005663389084797646), (1606, 0.025206780835466926), (1607, 0.035894089305855005), (1608, 0.008555501069175875), (1609, 0.013619925011064652), (1610, 0.004771312980500406), (1611, 0.049635154031875475), (1612, 0.020091483901389394), (1613, 0.0), (1614, 0.0), (1615, 0.010184560390953643), (1616, 0.0036780076529107715), (1617, 0.05765615263804305), (1618, 0.0), (1619, 0.0), (1620, 0.0), (1621, 0.030261448329099844), (1622, 0.020494488715352657), (1623, 0.0), (1624, 0.013188839916847852), (1625, 0.02827370037524668), (1626, 0.011372494024026866), (1627, 0.0), (1628, 0.012131964597925603), (1629, 0.0), (1630, 0.031848830758176634), (1631, 0.0), (1632, 0.0), (1633, 0.06872850284789156), (1634, 0.0), (1635, 0.004412202734743121), (1636, 0.025443489402711617), (1637, 0.0024970203221263898), (1638, 0.0), (1639, 0.0), (1640, 0.0), (1641, 0.0), (1642, 0.012512160686295447), (1643, 0.015566480459473203), (1644, 0.0), (1645, 0.009176547123993939), (1646, 0.0), (1647, 0.012154092956768411), (1648, 0.0), (1649, 0.0), (1650, 0.08930236857408366), (1651, 0.02964155149960479), (1652, 0.037293621078311044), (1653, 0.003834952215406707), (1654, 0.0337069247911828), (1655, 0.05231690601049552), (1656, 0.01244026989342824), (1657, 0.03013038779572356), (1658, 0.022271796671689804), (1659, 0.021670263798215385), (1660, 0.006933218120456179), (1661, 0.0038512487133184844), (1662, 0.0), (1663, 0.014638431499354438), (1664, 0.0045663290413529515), (1665, 0.0), (1666, 0.0), (1667, 0.04772423366214821), (1668, 0.05916942414287386), (1669, 0.016590862788613867), (1670, 0.0371418367566225), (1671, 0.03274251400625784), (1672, 0.04750976295218557), (1673, 0.0), (1674, 0.0), (1675, 0.06451797051573038), (1676, 0.00773458288732), (1677, 0.0), (1678, 0.018849635941866224), (1679, 0.0), (1680, 0.032547275119444954), (1681, 0.0), (1682, 0.006586447405069311), (1683, 0.0), (1684, 0.0), (1685, 0.0), (1686, 0.04425487798235786), (1687, 0.028911494185347636), (1688, 0.016440767588089572), (1689, 0.012239694847589836), (1690, 0.0), (1691, 0.0), (1692, 0.015057824701608259), (1693, 0.01593037125977456), (1694, 0.0), (1695, 0.00676036641670802), (1696, 0.03195679030124183), (1697, 0.01518362868755204), (1698, 0.0), (1699, 0.007143896396164307), (1700, 0.0), (1701, 0.008994055966452683), (1702, 0.003958467859425732), (1703, 0.0), (1704, 0.0), (1705, 0.0), (1706, 0.0), (1707, 0.020952158841934666), (1708, 0.018589504698516904), (1709, 0.009375512559875608), (1710, 0.0), (1711, 0.007341180088532088), (1712, 0.0), (1713, 0.00939681219851141), (1714, 0.0), (1715, 0.01244788363310933), (1716, 0.0), (1717, 0.0), (1718, 0.018176413200313993), (1719, 0.020744826262203184), (1720, 0.0042222988724259026), (1721, 0.013969339469954442), (1722, 0.022345142505901507), (1723, 0.0), (1724, 0.0223446231058953), (1725, 0.0060008105395307106), (1726, 0.0), (1727, 0.006126605865725831), (1728, 0.02705826019831519), (1729, 0.0), (1730, 0.0), (1731, 0.0392778108787404), (1732, 0.03478514779449308), (1733, 0.00457032024857531), (1734, 0.005165120117523814), (1735, 0.021930547580431316), (1736, 0.03828638038532889), (1737, 0.0199187990425159), (1738, 0.0), (1739, 0.03117156125398436), (1740, 0.010571386681904705), (1741, 0.0), (1742, 0.005004980993667173), (1743, 0.0099150734424563), (1744, 0.014636922265028494), (1745, 0.038188177188491976), (1746, 0.029082651531926844), (1747, 0.05637028899268509), (1748, 0.0), (1749, 0.009962721327299548), (1750, 0.02113302977699569), (1751, 0.008010791572100065), (1752, 0.0), (1753, 0.0036574407805167694), (1754, 0.005695182739667831), (1755, 0.0), (1756, 0.0), (1757, 0.011012360798562), (1758, 0.0), (1759, 0.1392622250456886), (1760, 0.0), (1761, 0.038288589576093754), (1762, 0.08992365412888345), (1763, 0.014346292543657706), (1764, 0.03735622122952404), (1765, 0.013497132871105808), (1766, 0.0), (1767, 0.0), (1768, 0.0), (1769, 0.0), (1770, 0.0), (1771, 0.0035324294515920716), (1772, 0.0), (1773, 0.021423729786401634), (1774, 0.0), (1775, 0.10028502743900149), (1776, 0.0), (1777, 0.011250600808630721), (1778, 0.0), (1779, 0.013149277602620534), (1780, 0.024722642060598397), (1781, 0.033156571941724874), (1782, 0.0), (1783, 0.004126872891625895), (1784, 0.0), (1785, 0.0), (1786, 0.0066903898494097575), (1787, 0.10142990951340332), (1788, 0.0), (1789, 0.0), (1790, 0.009671140049384942), (1791, 0.024365221556337694), (1792, 0.0), (1793, 0.0), (1794, 0.047795372779247614), (1795, 0.012546668788084985), (1796, 0.03804191516727186), (1797, 0.00613475925940772), (1798, 0.006897198894000536), (1799, 0.0), (1800, 0.016378544717223515), (1801, 0.0), (1802, 0.025700247014746488), (1803, 0.01787786365158732), (1804, 0.08357176949157136), (1805, 0.0), (1806, 0.0), (1807, 0.0173256985777422), (1808, 0.018968529384825884), (1809, 0.0), (1810, 0.0), (1811, 0.0), (1812, 0.009626853868405042), (1813, 0.009748399195661955), (1814, 0.0), (1815, 0.004002649425191243), (1816, 0.019484037186617287), (1817, 0.016920730304093405), (1818, 0.07147640965515364), (1819, 0.0), (1820, 0.05007912007938323), (1821, 0.028686560151928053), (1822, 0.00608698903023717), (1823, 0.0), (1824, 0.0298958203978421), (1825, 0.008915107095138115), (1826, 0.012405286367876163), (1827, 0.02712397361773206), (1828, 0.0), (1829, 0.0), (1830, 0.0038347955929682906), (1831, 0.0), (1832, 0.058649313695226184), (1833, 0.010419963671077984), (1834, 0.02792324449086451), (1835, 0.010751243860560337), (1836, 0.031124521601718524), (1837, 0.012103535074877752), (1838, 0.02775544412404784), (1839, 0.06278005535536575), (1840, 0.0), (1841, 0.004665124296844968), (1842, 0.0), (1843, 0.0), (1844, 0.004709310945991166), (1845, 0.009758758452095458), (1846, 0.011495946176517396), (1847, 0.03585183032966998), (1848, 0.06503058934150581), (1849, 0.018437822058127377), (1850, 0.08549654287350965), (1851, 0.0323204097613224), (1852, 0.1048933316310604), (1853, 0.004238217755713679), (1854, 0.03054415547522011), (1855, 0.0), (1856, 0.00459281659129473), (1857, 0.0), (1858, 0.005024060114382161), (1859, 0.022472945279948843), (1860, 0.00530911562142056), (1861, 0.025928926956708453), (1862, 0.0), (1863, 0.013424250507922286), (1864, 0.007239250153047132), (1865, 0.0), (1866, 0.0), (1867, 0.0), (1868, 0.004445188830819376), (1869, 0.035801155033938784), (1870, 0.010548895184073865), (1871, 0.0), (1872, 0.022294890119968238), (1873, 0.051238739244477124), (1874, 0.03899638320458558), (1875, 0.0), (1876, 0.0), (1877, 0.04003752054580136), (1878, 0.014500169598932338), (1879, 0.020241911249633298), (1880, 0.005817990533984498), (1881, 0.0), (1882, 0.004732546368699949), (1883, 0.0), (1884, 0.0), (1885, 0.0), (1886, 0.0), (1887, 0.0), (1888, 0.0), (1889, 0.03226789583118959), (1890, 0.09740226570959351), (1891, 0.0), (1892, 0.06309704168306142), (1893, 0.010557204310032594), (1894, 0.02049814325933738), (1895, 0.0), (1896, 0.04261129066604917), (1897, 0.005842099445535498), (1898, 0.0), (1899, 0.0), (1900, 0.011409293885880184), (1901, 0.02486076830080341), (1902, 0.03927782848721683), (1903, 0.0), (1904, 0.014331603175223065), (1905, 0.013683992891296223), (1906, 0.0), (1907, 0.0355403821138281), (1908, 0.0033275512885121367), (1909, 0.0), (1910, 0.01919996830891055), (1911, 0.0), (1912, 0.0), (1913, 0.03627340784666387), (1914, 0.058070532429803694), (1915, 0.012892161754672294), (1916, 0.0), (1917, 0.0), (1918, 0.016556332528291598), (1919, 0.0), (1920, 0.005325094490852402), (1921, 0.01860292886687466), (1922, 0.08210455038116231), (1923, 0.015356559682879772), (1924, 0.0), (1925, 0.0), (1926, 0.01410936342853135), (1927, 0.01870597531198472), (1928, 0.0), (1929, 0.04650734848334625), (1930, 0.03563540360535484), (1931, 0.06619220576194929), (1932, 0.05756579022849255), (1933, 0.005968811236173827), (1934, 0.0), (1935, 0.0), (1936, 0.015326414758321583), (1937, 0.0), (1938, 0.008602685019598579), (1939, 0.0373152447547805), (1940, 0.02336044209319089), (1941, 0.0), (1942, 0.009717884003909364), (1943, 0.022290730303204664), (1944, 0.03803980137448452), (1945, 0.03901940874313193), (1946, 0.00615342415802982), (1947, 0.0), (1948, 0.005438546090418213), (1949, 0.0), (1950, 0.005102433360268631), (1951, 0.13247062799882134), (1952, 0.02203979767012663), (1953, 0.010435367164071143), (1954, 0.006061253127490353), (1955, 0.003967515366130186), (1956, 0.005379245978182341), (1957, 0.025098141749001344), (1958, 0.032696005148426854), (1959, 0.08825535348658473), (1960, 0.009185631887888427), (1961, 0.03287183625283467), (1962, 0.007359254106602404), (1963, 0.0), (1964, 0.026490900821354676), (1965, 0.0), (1966, 0.0601342558093652), (1967, 0.03216280250801749), (1968, 0.0), (1969, 0.026956392534732507), (1970, 0.029527960770781743), (1971, 0.0), (1972, 0.0), (1973, 0.019826187361601928), (1974, 0.005598256550054489), (1975, 0.0), (1976, 0.05798615371523006), (1977, 0.06039522572388343), (1978, 0.017897727882081625), (1979, 0.0), (1980, 0.0), (1981, 0.013922426329557256), (1982, 0.04061805114215371), (1983, 0.02304155768887767), (1984, 0.03214296209886981), (1985, 0.0), (1986, 0.005452433417543899), (1987, 0.009663213950346515), (1988, 0.0), (1989, 0.0), (1990, 0.08423556844957843), (1991, 0.004818244043521089), (1992, 0.0055646521296825735), (1993, 0.0), (1994, 0.0), (1995, 0.05849322254749233), (1996, 0.027382036597327193), (1997, 0.006676845179846745), (1998, 0.0), (1999, 0.06348624761360992), (2000, 0.017145475169050392), (2001, 0.0071263957658099855), (2002, 0.004538335713182331), (2003, 0.006113226990345993), (2004, 0.019059442784155785), (2005, 0.0), (2006, 0.02815553464227324), (2007, 0.03187223700203211), (2008, 0.022642756682759235), (2009, 0.0), (2010, 0.0), (2011, 0.0), (2012, 0.0), (2013, 0.03294321732003716), (2014, 0.0055884499735150105), (2015, 0.06158626775309835), (2016, 0.03198346156513414), (2017, 0.009764391525290673), (2018, 0.04118108096410221), (2019, 0.007941547138739083), (2020, 0.0), (2021, 0.011116629493012542), (2022, 0.05384474903504938), (2023, 0.0359500231621141), (2024, 0.08822681711663992), (2025, 0.012409647298233163), (2026, 0.0), (2027, 0.019097473265148924), (2028, 0.0), (2029, 0.035753200557801755), (2030, 0.0), (2031, 0.0), (2032, 0.01364141063600535), (2033, 0.05158738272127139), (2034, 0.0), (2035, 0.015376868503822513), (2036, 0.010582125208163873), (2037, 0.016351512270761946), (2038, 0.021307529931764033), (2039, 0.010932974305663418), (2040, 0.016485797455485268), (2041, 0.0), (2042, 0.03195573962748642), (2043, 0.003930810036914483), (2044, 0.0), (2045, 0.0), (2046, 0.030664038867590785), (2047, 0.04114855102996886), (2048, 0.011791082381967941), (2049, 0.0781215173258265), (2050, 0.0046682626863874584), (2051, 0.0), (2052, 0.05733834226956078), (2053, 0.05613595353799773), (2054, 0.016303361306550745), (2055, 0.006213654482227193), (2056, 0.0), (2057, 0.018836099213800875), (2058, 0.0), (2059, 0.0), (2060, 0.07760884266953866), (2061, 0.011306290746781357), (2062, 0.027866976129186122), (2063, 0.0), (2064, 0.00542832963679556), (2065, 0.0), (2066, 0.023705042998599737), (2067, 0.0), (2068, 0.036260213173479244), (2069, 0.016865278328627404), (2070, 0.0), (2071, 0.05262435057902151), (2072, 0.07998266977268065), (2073, 0.0), (2074, 0.004221630474370126), (2075, 0.0), (2076, 0.03314578082473651), (2077, 0.0), (2078, 0.01161475691439857), (2079, 0.0), (2080, 0.009710885908894105), (2081, 0.060154624197389484), (2082, 0.0), (2083, 0.0), (2084, 0.010558771402005843), (2085, 0.0658961540808341), (2086, 0.01615752180509357), (2087, 0.007544833216734815), (2088, 0.011167347829352633), (2089, 0.020074949371243406), (2090, 0.0), (2091, 0.11059752353732846), (2092, 0.0), (2093, 0.0), (2094, 0.011807253569743483), (2095, 0.004357396217989446), (2096, 0.043486979021649504), (2097, 0.004231154897544972), (2098, 0.023538858307053576), (2099, 0.029494923438736213), (2100, 0.0452735789296694), (2101, 0.009636615357304543), (2102, 0.0061896228058991015), (2103, 0.05389513327418789), (2104, 0.010307229679311433), (2105, 0.02034205589203623), (2106, 0.05899104370249879), (2107, 0.0), (2108, 0.009819999390089736), (2109, 0.02218406289848087), (2110, 0.0), (2111, 0.0030100115988083037), (2112, 0.0), (2113, 0.0), (2114, 0.05226569962857136), (2115, 0.060817073412030624), (2116, 0.014901457038004346), (2117, 0.0), (2118, 0.010832691841368074), (2119, 0.0), (2120, 0.0), (2121, 0.019409487997710254), (2122, 0.010473706233717558), (2123, 0.02736199714295832), (2124, 0.0), (2125, 0.01655370788562563), (2126, 0.011853133822251104), (2127, 0.02014289351308861), (2128, 0.0), (2129, 0.048966775215870346), (2130, 0.0), (2131, 0.04037611985038832), (2132, 0.0), (2133, 0.009502782486055218), (2134, 0.011176002185762165), (2135, 0.0), (2136, 0.035984996314853704), (2137, 0.0), (2138, 0.042128072471318015), (2139, 0.0), (2140, 0.03421550779659614), (2141, 0.0), (2142, 0.042692438553560294), (2143, 0.0), (2144, 0.0), (2145, 0.0), (2146, 0.0), (2147, 0.017525020573000757), (2148, 0.014895924205048035), (2149, 0.009501704970650037), (2150, 0.0), (2151, 0.024913496531513), (2152, 0.02142366884769619), (2153, 0.051066659514765744), (2154, 0.004491915692369356), (2155, 0.04364153489565552), (2156, 0.022889193202101164), (2157, 0.041728853587582646), (2158, 0.0), (2159, 0.036587834306287856), (2160, 0.011255203858151916), (2161, 0.007380699242005539), (2162, 0.0), (2163, 0.05942780284075013), (2164, 0.056867343704563235), (2165, 0.03205216001564979), (2166, 0.009522004468862514), (2167, 0.005686778098554765), (2168, 0.0), (2169, 0.06233420321864439), (2170, 0.05395178574664438), (2171, 0.0), (2172, 0.0), (2173, 0.0), (2174, 0.0), (2175, 0.024960048067241572), (2176, 0.0), (2177, 0.015422964678537552), (2178, 0.03749079350699082), (2179, 0.0), (2180, 0.0), (2181, 0.018761713071844294), (2182, 0.013028193878265345), (2183, 0.0), (2184, 0.018298623648723356), (2185, 0.017624446737034286), (2186, 0.010775802277631797), (2187, 0.009611478881078576), (2188, 0.004698956380783233), (2189, 0.007417151488990549), (2190, 0.0), (2191, 0.0), (2192, 0.0), (2193, 0.01975006503030991), (2194, 0.0036866400695654165), (2195, 0.017287478438269395), (2196, 0.0), (2197, 0.03426746575684216), (2198, 0.03443660806534668), (2199, 0.0), (2200, 0.0038827738001278515), (2201, 0.0059869307637544986), (2202, 0.03929282673316847), (2203, 0.004830615819758094), (2204, 0.0), (2205, 0.038613563313253205), (2206, 0.008377448255705697), (2207, 0.01239708350837614), (2208, 0.0), (2209, 0.0066057429749745294), (2210, 0.0), (2211, 0.016721406595598363), (2212, 0.0184209292959124), (2213, 0.0), (2214, 0.0634747769218669), (2215, 0.0), (2216, 0.0), (2217, 0.0), (2218, 0.016989746526712646), (2219, 0.014167018535803795), (2220, 0.034093629072935436), (2221, 0.02293422027862091), (2222, 0.016969546669702126), (2223, 0.015239995928557617), (2224, 0.0), (2225, 0.02487333648876536), (2226, 0.0), (2227, 0.05913302912625955), (2228, 0.0), (2229, 0.01881410701783941), (2230, 0.024828223528070244), (2231, 0.035666106162306886), (2232, 0.0), (2233, 0.05806930429563439), (2234, 0.013044033861882515), (2235, 0.007715933185943981), (2236, 0.0), (2237, 0.052288519685053124), (2238, 0.020203802000787207), (2239, 0.03158589228324375), (2240, 0.01667189194027834), (2241, 0.014908127250851722), (2242, 0.011021553277839246), (2243, 0.0), (2244, 0.062003263300629836), (2245, 0.019997302420519808), (2246, 0.02644410494388106), (2247, 0.10892813205146959), (2248, 0.0), (2249, 0.040376299090312054), (2250, 0.01058948088051032), (2251, 0.0), (2252, 0.0), (2253, 0.039924136080170515), (2254, 0.014307030976246403), (2255, 0.04690479947552483), (2256, 0.0), (2257, 0.0), (2258, 0.06896714091063263), (2259, 0.0), (2260, 0.016556804648300418), (2261, 0.0), (2262, 0.10301187835591052), (2263, 0.0), (2264, 0.03017053648274043), (2265, 0.0), (2266, 0.0), (2267, 0.0), (2268, 0.006310357864858874), (2269, 0.0), (2270, 0.006833471486567376), (2271, 0.0), (2272, 0.0), (2273, 0.0), (2274, 0.0), (2275, 0.014737963956138493), (2276, 0.02334895271746719), (2277, 0.005520666096154628), (2278, 0.04164848158851431), (2279, 0.022563951594126507), (2280, 0.0), (2281, 0.0), (2282, 0.017102139139262115), (2283, 0.022638672626873396), (2284, 0.021811917401422905), (2285, 0.021544301154972904), (2286, 0.0), (2287, 0.0), (2288, 0.004181609944369174), (2289, 0.006891344236839851), (2290, 0.015038609478093934), (2291, 0.008716032065511766), (2292, 0.007929476835445625), (2293, 0.0), (2294, 0.018087269762407827), (2295, 0.020454371719669268), (2296, 0.029185951569030134), (2297, 0.012934244905140467), (2298, 0.005874355426811336), (2299, 0.0), (2300, 0.030490651912317753), (2301, 0.01937422604024573), (2302, 0.01369959113824498), (2303, 0.03847195075331732), (2304, 0.0), (2305, 0.013544241801918903), (2306, 0.010841016265230773), (2307, 0.05090741212121955), (2308, 0.019517182137885804), (2309, 0.0), (2310, 0.03060296835885461), (2311, 0.0497978993026255), (2312, 0.0), (2313, 0.02297866092112133), (2314, 0.00796894981499825), (2315, 0.0), (2316, 0.0), (2317, 0.01905985676526151), (2318, 0.0), (2319, 0.0), (2320, 0.021299659679199136), (2321, 0.018827665275676603), (2322, 0.008432346396352952), (2323, 0.0), (2324, 0.0055956550543884865), (2325, 0.0), (2326, 0.01687535885074966), (2327, 0.015445052764594474), (2328, 0.0), (2329, 0.011772399007727169), (2330, 0.06311205925520989), (2331, 0.0), (2332, 0.0), (2333, 0.00854765049678104), (2334, 0.03157144355425083), (2335, 0.011071737706807803), (2336, 0.04990595919188022), (2337, 0.0), (2338, 0.05023439712717219), (2339, 0.010434799670015144), (2340, 0.013207815492141796), (2341, 0.031760763544025655), (2342, 0.0631520184662166), (2343, 0.05163430159108033), (2344, 0.0), (2345, 0.0), (2346, 0.07266599091629622), (2347, 0.0), (2348, 0.02220008793870939), (2349, 0.035340124971975986), (2350, 0.05995962003973923), (2351, 0.0), (2352, 0.02221678350520427), (2353, 0.0), (2354, 0.0), (2355, 0.0), (2356, 0.012374964078245655), (2357, 0.06800341374941271), (2358, 0.015260294268310751), (2359, 0.02062582353845834), (2360, 0.005026519790970842), (2361, 0.06081136521772398), (2362, 0.0), (2363, 0.02695109581389909), (2364, 0.033063563001699776), (2365, 0.0), (2366, 0.016569377517854544), (2367, 0.0), (2368, 0.01157207160068617), (2369, 0.0), (2370, 0.0), (2371, 0.024031288025418603), (2372, 0.01927886341339695), (2373, 0.014027196508664963), (2374, 0.0), (2375, 0.014439374323999617), (2376, 0.011513197307144967), (2377, 0.0340867559621925), (2378, 0.0), (2379, 0.0), (2380, 0.011485603195217697), (2381, 0.03224777524718873), (2382, 0.0), (2383, 0.009339518723284482), (2384, 0.012026535541838461), (2385, 0.0), (2386, 0.004038181513242874), (2387, 0.0793913122143205), (2388, 0.0039195606542855), (2389, 0.010468383216308733), (2390, 0.015151540992446645), (2391, 0.05852489496545053), (2392, 0.0), (2393, 0.0), (2394, 0.040643149676709386), (2395, 0.0), (2396, 0.0), (2397, 0.04729639481790597), (2398, 0.005348523948141956), (2399, 0.0391202538444235), (2400, 0.01582746853004561), (2401, 0.0), (2402, 0.017515323080879813), (2403, 0.11648623132094184), (2404, 0.024895785490883993), (2405, 0.024255578784665943), (2406, 0.0), (2407, 0.03918768819960375), (2408, 0.057170204320674406), (2409, 0.0), (2410, 0.008074444510509971), (2411, 0.0), (2412, 0.004486768382281261), (2413, 0.0), (2414, 0.0), (2415, 0.0), (2416, 0.010643234829934326), (2417, 0.012743980449188088), (2418, 0.0), (2419, 0.0), (2420, 0.013184475247079679), (2421, 0.0), (2422, 0.0), (2423, 0.0), (2424, 0.0), (2425, 0.0326155679539736), (2426, 0.009513839396180317), (2427, 0.0710851023326278), (2428, 0.024369924046559122), (2429, 0.04095724613006094), (2430, 0.006585588017372277), (2431, 0.005860555360908767), (2432, 0.0), (2433, 0.060611998478455574), (2434, 0.013912711528135379), (2435, 0.02823703698384483), (2436, 0.0), (2437, 0.02915977996888134), (2438, 0.01070703883515151), (2439, 0.0477674144549633), (2440, 0.0), (2441, 0.015258457001253401), (2442, 0.037477992584879743), (2443, 0.04032777058418406), (2444, 0.06351207851174409), (2445, 0.0), (2446, 0.0), (2447, 0.0), (2448, 0.0), (2449, 0.0), (2450, 0.0), (2451, 0.0), (2452, 0.0), (2453, 0.0), (2454, 0.02681418812430154), (2455, 0.010883561512434558), (2456, 0.012964941554718775), (2457, 0.027656083861072062), (2458, 0.0), (2459, 0.01845624748949826), (2460, 0.0), (2461, 0.05795266298632821), (2462, 0.0), (2463, 0.011826202842374721), (2464, 0.0), (2465, 0.008326405859110856), (2466, 0.010621490177969812), (2467, 0.0), (2468, 0.0), (2469, 0.014011387451540033), (2470, 0.03808804906243588), (2471, 0.004044132576086333), (2472, 0.0), (2473, 0.03588943791514521), (2474, 0.044149444585137435), (2475, 0.0), (2476, 0.052300636903801816), (2477, 0.0), (2478, 0.02090156497104186), (2479, 0.04536662460174837), (2480, 0.015206147087988843), (2481, 0.0), (2482, 0.007188917177297949), (2483, 0.009961668955383796), (2484, 0.0052463307044497065), (2485, 0.0), (2486, 0.010553520713533267), (2487, 0.018996913909163887), (2488, 0.013846486700490697), (2489, 0.03128336471016427), (2490, 0.011195999412611884), (2491, 0.010709932869584646), (2492, 0.011232684640039983), (2493, 0.0), (2494, 0.0), (2495, 0.0), (2496, 0.042560380595738315), (2497, 0.0), (2498, 0.0), (2499, 0.012160874817305458), (2500, 0.07582048109252879), (2501, 0.019032967360450494), (2502, 0.0), (2503, 0.0), (2504, 0.0), (2505, 0.03161835727174999), (2506, 0.05267566246937239), (2507, 0.0296218447268717), (2508, 0.011497530071464772), (2509, 0.008005226078498932), (2510, 0.013041577810826644), (2511, 0.01494057464044593), (2512, 0.0), (2513, 0.0), (2514, 0.061415241187501426), (2515, 0.03622775034490874), (2516, 0.0), (2517, 0.0), (2518, 0.0), (2519, 0.0), (2520, 0.0), (2521, 0.022100383779275527), (2522, 0.05752865061040838), (2523, 0.01510496132561932), (2524, 0.012336114202907303), (2525, 0.017535100161008864), (2526, 0.0), (2527, 0.003965327491517966), (2528, 0.0), (2529, 0.010515335379813409), (2530, 0.008829962202772252), (2531, 0.0), (2532, 0.02400363210141788), (2533, 0.0), (2534, 0.023123716701936338), (2535, 0.0), (2536, 0.049352533050488125), (2537, 0.011001355062189274), (2538, 0.015288408657155753), (2539, 0.0), (2540, 0.0), (2541, 0.0069722409325131225), (2542, 0.008201332030709888), (2543, 0.019656970243286703), (2544, 0.0), (2545, 0.029430808814237763), (2546, 0.0), (2547, 0.051644196093247344), (2548, 0.0), (2549, 0.01017294943469323), (2550, 0.05575981388037822), (2551, 0.0), (2552, 0.0), (2553, 0.0), (2554, 0.0), (2555, 0.0), (2556, 0.02896315861762964), (2557, 0.011494287904989117), (2558, 0.004132350034101043), (2559, 0.0), (2560, 0.02547037839113164), (2561, 0.03576743800346315), (2562, 0.0), (2563, 0.0), (2564, 0.003915797443419823), (2565, 0.014213806330215357), (2566, 0.0), (2567, 0.020655459010500418), (2568, 0.02351098594817045), (2569, 0.0), (2570, 0.0), (2571, 0.017911867414372364), (2572, 0.06218677310744773), (2573, 0.04068911010924957), (2574, 0.0), (2575, 0.0), (2576, 0.0), (2577, 0.016640538621159873), (2578, 0.03625589289086589), (2579, 0.004350672348105065), (2580, 0.0), (2581, 0.005613264426230584), (2582, 0.0), (2583, 0.042137446289995203), (2584, 0.08203239359116563), (2585, 0.0), (2586, 0.030158920722864652), (2587, 0.0), (2588, 0.0), (2589, 0.016108077607219894), (2590, 0.015066796553495207), (2591, 0.009711736832052651), (2592, 0.058485747410799364), (2593, 0.0), (2594, 0.0), (2595, 0.0), (2596, 0.01777157368816015), (2597, 0.025171684857074213), (2598, 0.010494065987851079), (2599, 0.0), (2600, 0.0), (2601, 0.0), (2602, 0.0), (2603, 0.04212881490066857), (2604, 0.0), (2605, 0.02765118533520223), (2606, 0.0), (2607, 0.0), (2608, 0.0), (2609, 0.01509758670100964), (2610, 0.0), (2611, 0.03171993437290582), (2612, 0.0), (2613, 0.0), (2614, 0.06158304141067933), (2615, 0.013027110333731584), (2616, 0.0), (2617, 0.0), (2618, 0.0), (2619, 0.0), (2620, 0.0), (2621, 0.0), (2622, 0.0), (2623, 0.005508816867748564), (2624, 0.0), (2625, 0.03725042247311191), (2626, 0.02402033791429713), (2627, 0.013599155456260439), (2628, 0.014819400661629945), (2629, 0.0), (2630, 0.006147222292542547), (2631, 0.0), (2632, 0.0), (2633, 0.051795338274759406), (2634, 0.0), (2635, 0.01502457881345629), (2636, 0.007205602521451314), (2637, 0.01484579941477136), (2638, 0.06818955253755368), (2639, 0.02152850563304326), (2640, 0.010902602170923885), (2641, 0.0047170111104657495), (2642, 0.022847993741333866), (2643, 0.0), (2644, 0.010989553018052347), (2645, 0.03373277415431922), (2646, 0.010391668575112265), (2647, 0.0), (2648, 0.0), (2649, 0.0), (2650, 0.05250587854388104), (2651, 0.010529584968887656), (2652, 0.0), (2653, 0.03873112074895225), (2654, 0.022044977794646564), (2655, 0.013631776181172396), (2656, 0.0), (2657, 0.0034663339594794146), (2658, 0.0), (2659, 0.049551480315194976), (2660, 0.013672151659938365), (2661, 0.0), (2662, 0.0), (2663, 0.0), (2664, 0.0), (2665, 0.0), (2666, 0.0), (2667, 0.024946201884131994), (2668, 0.0), (2669, 0.045172705991017074), (2670, 0.0), (2671, 0.019440326461955128), (2672, 0.0), (2673, 0.0), (2674, 0.007208027257277899), (2675, 0.033788246807175605), (2676, 0.0), (2677, 0.010128492732840033), (2678, 0.009419026662543396), (2679, 0.0), (2680, 0.0), (2681, 0.009094313273696267), (2682, 0.011882564888681132), (2683, 0.009600217498280418), (2684, 0.022520141372843028), (2685, 0.005836302065160516), (2686, 0.0), (2687, 0.0), (2688, 0.07085489944780035), (2689, 0.0), (2690, 0.0), (2691, 0.06256531065337699), (2692, 0.025594695340112175), (2693, 0.0), (2694, 0.0), (2695, 0.0), (2696, 0.0668984154855354), (2697, 0.011020622979446745), (2698, 0.0), (2699, 0.0), (2700, 0.0), (2701, 0.0), (2702, 0.0), (2703, 0.03535040254562127), (2704, 0.008524505056989928), (2705, 0.0), (2706, 0.0), (2707, 0.0), (2708, 0.017598659128871465), (2709, 0.0), (2710, 0.0), (2711, 0.0), (2712, 0.0), (2713, 0.016321198372147835), (2714, 0.0), (2715, 0.00549253646485164), (2716, 0.0), (2717, 0.05436024890611206), (2718, 0.0), (2719, 0.013190207358444643), (2720, 0.09677676065900782), (2721, 0.0), (2722, 0.015818910781313644), (2723, 0.0), (2724, 0.0), (2725, 0.0), (2726, 0.0324115487451479), (2727, 0.03295299568580794), (2728, 0.006954837155773977), (2729, 0.0), (2730, 0.031647848418550756), (2731, 0.0), (2732, 0.006809828803385477), (2733, 0.0), (2734, 0.013431790426588016), (2735, 0.0), (2736, 0.026181056143979798), (2737, 0.011848116453407317), (2738, 0.0), (2739, 0.01077404966061666), (2740, 0.0), (2741, 0.014396348482756137), (2742, 0.021368687076456342), (2743, 0.0054429574899024355), (2744, 0.0), (2745, 0.0), (2746, 0.005020420956669339), (2747, 0.007967356219014112), (2748, 0.04459325207400286), (2749, 0.0), (2750, 0.0), (2751, 0.0052688136380998184), (2752, 0.019252629987471584), (2753, 0.028888392750367073), (2754, 0.0), (2755, 0.01299176746200048), (2756, 0.013892447430446563), (2757, 0.06664774668913806), (2758, 0.01623277058217002), (2759, 0.04028684493767728), (2760, 0.0), (2761, 0.0), (2762, 0.014852254912939605), (2763, 0.06687511143975534), (2764, 0.0), (2765, 0.0), (2766, 0.017300220313363465), (2767, 0.0), (2768, 0.0), (2769, 0.0), (2770, 0.0), (2771, 0.0), (2772, 0.0), (2773, 0.02792087360563114), (2774, 0.0), (2775, 0.005565015625543057), (2776, 0.0), (2777, 0.011193164451430877), (2778, 0.04278917041816031), (2779, 0.0), (2780, 0.023879286101452634), (2781, 0.011087734736159437), (2782, 0.02969359167434), (2783, 0.0), (2784, 0.013453572119184378), (2785, 0.016591394620131424), (2786, 0.006236471934822704), (2787, 0.011851089215402438), (2788, 0.02360143948827115), (2789, 0.012889314869788877), (2790, 0.01329098809661889), (2791, 0.03677994419900105), (2792, 0.0), (2793, 0.0), (2794, 0.00649238390072408), (2795, 0.02263461196017218), (2796, 0.01648947946887041), (2797, 0.01816546274652635), (2798, 0.03527994758806042), (2799, 0.0), (2800, 0.0316367314135333), (2801, 0.0), (2802, 0.0), (2803, 0.025495213058286698), (2804, 0.0), (2805, 0.029353988643678018), (2806, 0.021868603763039476), (2807, 0.014215808909142211), (2808, 0.0074938760954996785), (2809, 0.015185462918742069), (2810, 0.010610290473399902), (2811, 0.0), (2812, 0.024087448121300967), (2813, 0.014670981914351462), (2814, 0.007028402717019744), (2815, 0.08388497415500179), (2816, 0.02361581975533771), (2817, 0.018266399347086182), (2818, 0.0), (2819, 0.003951228725998517), (2820, 0.0), (2821, 0.0), (2822, 0.023892532144059345), (2823, 0.013573603805309), (2824, 0.03138258322680823), (2825, 0.0), (2826, 0.042599613051294984), (2827, 0.07591620418387252), (2828, 0.0), (2829, 0.06110625853994213), (2830, 0.01691980882744455), (2831, 0.023288479425255644), (2832, 0.0), (2833, 0.026635462154423042), (2834, 0.0), (2835, 0.03651626464778689), (2836, 0.011986577924277866), (2837, 0.0), (2838, 0.0178536055015053), (2839, 0.012613205955996295), (2840, 0.0), (2841, 0.00914151931021534), (2842, 0.0), (2843, 0.0), (2844, 0.0), (2845, 0.007084111545935355), (2846, 0.03197872626702101), (2847, 0.0), (2848, 0.0), (2849, 0.010589279654599939), (2850, 0.0), (2851, 0.0737520885882463), (2852, 0.0), (2853, 0.0029108571171304826), (2854, 0.0), (2855, 0.0), (2856, 0.0), (2857, 0.014635435675503006), (2858, 0.015371509682723992), (2859, 0.0310865747090317), (2860, 0.03917698775028758), (2861, 0.0), (2862, 0.00641655015374885), (2863, 0.012952794215196115), (2864, 0.015205985427607475), (2865, 0.03677042321386184), (2866, 0.0), (2867, 0.007229745127541923), (2868, 0.023479958806243668), (2869, 0.0), (2870, 0.0), (2871, 0.020988106610832426), (2872, 0.029605585863848986), (2873, 0.0), (2874, 0.0), (2875, 0.015722610453366013), (2876, 0.03094187887508825), (2877, 0.006404215386823494), (2878, 0.0061449152839995885), (2879, 0.0), (2880, 0.022387092919798682), (2881, 0.0), (2882, 0.0), (2883, 0.0), (2884, 0.026045805031094767), (2885, 0.0), (2886, 0.01543549764679551), (2887, 0.005687278415353047), (2888, 0.04560506134566969), (2889, 0.016406636605927238), (2890, 0.0), (2891, 0.0), (2892, 0.030283120003366155), (2893, 0.0), (2894, 0.03250955329057558), (2895, 0.0), (2896, 0.0), (2897, 0.007615067506763508), (2898, 0.02721031659160892), (2899, 0.012776703380744823), (2900, 0.00921959125664794), (2901, 0.039538655809515405), (2902, 0.0), (2903, 0.0), (2904, 0.017292220990054955), (2905, 0.0), (2906, 0.0), (2907, 0.0), (2908, 0.0), (2909, 0.0), (2910, 0.0), (2911, 0.018895513161739805), (2912, 0.013289095491346128), (2913, 0.0), (2914, 0.06961814323388746), (2915, 0.005999813849318384), (2916, 0.014252750486013125), (2917, 0.0), (2918, 0.004342864111026563), (2919, 0.01403140822385374), (2920, 0.0), (2921, 0.06788853770092662), (2922, 0.0), (2923, 0.0065497473083190585), (2924, 0.0), (2925, 0.0), (2926, 0.0), (2927, 0.0446009400765869), (2928, 0.0), (2929, 0.03671964771172869), (2930, 0.0), (2931, 0.0226450829122757), (2932, 0.0), (2933, 0.0), (2934, 0.005906375385069253), (2935, 0.0), (2936, 0.0), (2937, 0.0), (2938, 0.0), (2939, 0.0), (2940, 0.027850653183201488), (2941, 0.011724550832256445), (2942, 0.0), (2943, 0.0), (2944, 0.008590370125504542), (2945, 0.019098960796129043), (2946, 0.02368954906196542), (2947, 0.07120258702544079), (2948, 0.0), (2949, 0.0), (2950, 0.01303678556719843), (2951, 0.0), (2952, 0.0), (2953, 0.03948048879924092), (2954, 0.0), (2955, 0.0), (2956, 0.0), (2957, 0.03575851030706466), (2958, 0.0), (2959, 0.017472878263506336), (2960, 0.009030897377295292), (2961, 0.03329344238576931), (2962, 0.0), (2963, 0.0), (2964, 0.02186793719022771), (2965, 0.07392572550778519), (2966, 0.041880136951966435), (2967, 0.009318048925196241), (2968, 0.0), (2969, 0.007004351231088661), (2970, 0.0), (2971, 0.02586661727890656), (2972, 0.006593818560110894), (2973, 0.026380053534992145), (2974, 0.013031322357864741), (2975, 0.0), (2976, 0.0), (2977, 0.0), (2978, 0.07144660118804483), (2979, 0.013898900311435322), (2980, 0.005089176672331494), (2981, 0.0), (2982, 0.011782274135719735), (2983, 0.02736067235015028), (2984, 0.0), (2985, 0.0144978346849249), (2986, 0.06924250271295121), (2987, 0.0), (2988, 0.015678333774125527), (2989, 0.018637560066225158), (2990, 0.0), (2991, 0.030101629295923898), (2992, 0.0), (2993, 0.025187929497026782), (2994, 0.06295957560792227), (2995, 0.0913523627026613), (2996, 0.00945819539992969), (2997, 0.0), (2998, 0.0), (2999, 0.02214776868509189), (3000, 0.0), (3001, 0.015524785987648962), (3002, 0.015754466910583687), (3003, 0.0), (3004, 0.009600810780078305), (3005, 0.0), (3006, 0.045878377044165114), (3007, 0.013943248785671757), (3008, 0.003814097135482123), (3009, 0.0), (3010, 0.033621149716178994), (3011, 0.06026558886625935), (3012, 0.02852161263470765), (3013, 0.005430995027131079), (3014, 0.0583696278264316), (3015, 0.0), (3016, 0.01635316161581298), (3017, 0.0), (3018, 0.030641484144932604), (3019, 0.0), (3020, 0.0034786101406367857), (3021, 0.0046398823443844816), (3022, 0.0), (3023, 0.0), (3024, 0.007762716972193598), (3025, 0.0), (3026, 0.0), (3027, 0.0), (3028, 0.0), (3029, 0.030005070189070792), (3030, 0.010123018843800652), (3031, 0.033633479447635936), (3032, 0.03916916915861872), (3033, 0.026174742033670782), (3034, 0.022382416024110372), (3035, 0.026409273913634297), (3036, 0.0), (3037, 0.0), (3038, 0.0), (3039, 0.0), (3040, 0.003920248900630617), (3041, 0.0), (3042, 0.0), (3043, 0.009380097000940113), (3044, 0.028113273393106552), (3045, 0.0), (3046, 0.032686840504205714), (3047, 0.0), (3048, 0.01836147306113225), (3049, 0.019375254235323866), (3050, 0.0), (3051, 0.02738718216251914), (3052, 0.0), (3053, 0.015047730182133335), (3054, 0.009278771627220997), (3055, 0.05293441481084925), (3056, 0.11469403358355028), (3057, 0.0), (3058, 0.0), (3059, 0.01864365340544062), (3060, 0.0), (3061, 0.0), (3062, 0.021564193913705926), (3063, 0.01287445734394224), (3064, 0.0), (3065, 0.016920945712335746), (3066, 0.0), (3067, 0.0), (3068, 0.02565425449172072), (3069, 0.0), (3070, 0.00499542522811811), (3071, 0.0), (3072, 0.008056357168729798), (3073, 0.026877822717882527), (3074, 0.004247068544294017), (3075, 0.0), (3076, 0.009975925304966323), (3077, 0.004771376747498182), (3078, 0.0), (3079, 0.016092399634793555), (3080, 0.0), (3081, 0.0), (3082, 0.024325076186351435), (3083, 0.0), (3084, 0.0), (3085, 0.005558072065219233), (3086, 0.028192141148357556), (3087, 0.017469052860581508), (3088, 0.0), (3089, 0.015464927362643606), (3090, 0.020423755836336325), (3091, 0.0), (3092, 0.011745488862089724), (3093, 0.009644122671584232), (3094, 0.0), (3095, 0.0), (3096, 0.0), (3097, 0.0), (3098, 0.03433496025871913), (3099, 0.019248907234305054), (3100, 0.0), (3101, 0.0), (3102, 0.0), (3103, 0.0), (3104, 0.0), (3105, 0.07758006957435132), (3106, 0.0035235584938098146), (3107, 0.0), (3108, 0.006313225915462269), (3109, 0.0), (3110, 0.0), (3111, 0.025780115382708163), (3112, 0.05725841517596775), (3113, 0.014387751578898345), (3114, 0.0), (3115, 0.0), (3116, 0.0), (3117, 0.0), (3118, 0.0), (3119, 0.0), (3120, 0.012055139052211106), (3121, 0.0), (3122, 0.0), (3123, 0.018802801652982155), (3124, 0.02500050830475267), (3125, 0.0), (3126, 0.0), (3127, 0.029174818861547155), (3128, 0.00582018306124774), (3129, 0.0), (3130, 0.0), (3131, 0.0), (3132, 0.013824069565113622), (3133, 0.008946407924572923), (3134, 0.0), (3135, 0.0), (3136, 0.030026689390774935), (3137, 0.0), (3138, 0.015907535028890387), (3139, 0.0), (3140, 0.0), (3141, 0.030485696893614612), (3142, 0.0), (3143, 0.012047819479703976), (3144, 0.004824232987346049), (3145, 0.0), (3146, 0.0), (3147, 0.019998074805421647), (3148, 0.024996078119763294), (3149, 0.0), (3150, 0.020475573132603262), (3151, 0.019421838355659346), (3152, 0.0), (3153, 0.004651803823429424), (3154, 0.006143231003784483), (3155, 0.016557621761337446), (3156, 0.0), (3157, 0.0), (3158, 0.19818790114931056), (3159, 0.01898949434837896), (3160, 0.0), (3161, 0.0), (3162, 0.008072757379560966), (3163, 0.008571908884778798), (3164, 0.0), (3165, 0.0033294887694617515), (3166, 0.0), (3167, 0.0), (3168, 0.0), (3169, 0.0), (3170, 0.009169007686367888), (3171, 0.0), (3172, 0.015637728664337366), (3173, 0.015032126829951621), (3174, 0.0), (3175, 0.024826848173717435), (3176, 0.012204252230144227), (3177, 0.06336630560609349), (3178, 0.0), (3179, 0.01018430250984445), (3180, 0.0058643937306877645), (3181, 0.0), (3182, 0.0), (3183, 0.0), (3184, 0.06495230074723472), (3185, 0.0), (3186, 0.028039289851936065), (3187, 0.0), (3188, 0.0), (3189, 0.0), (3190, 0.0), (3191, 0.0), (3192, 0.0), (3193, 0.0), (3194, 0.0), (3195, 0.06426249146317173), (3196, 0.0), (3197, 0.041162365666694956), (3198, 0.0), (3199, 0.021827667986697857), (3200, 0.0), (3201, 0.015573304194030944), (3202, 0.04919186322735928), (3203, 0.0865368835206566), (3204, 0.025364117491724826), (3205, 0.05958063199258075), (3206, 0.0), (3207, 0.0), (3208, 0.08787225392197706), (3209, 0.0038829980834669906), (3210, 0.0), (3211, 0.04423690381819891), (3212, 0.0), (3213, 0.0), (3214, 0.03337304987568229), (3215, 0.0065861581990149754), (3216, 0.0), (3217, 0.0), (3218, 0.0), (3219, 0.0), (3220, 0.0), (3221, 0.004976944707886593), (3222, 0.0), (3223, 0.0), (3224, 0.013218562940602207), (3225, 0.013162451533457234), (3226, 0.0), (3227, 0.04545622385856227), (3228, 0.0), (3229, 0.08155358977451968), (3230, 0.008351578201564746), (3231, 0.005218636504734931), (3232, 0.0), (3233, 0.005445045373819085), (3234, 0.0), (3235, 0.0), (3236, 0.09435760928399116), (3237, 0.019084865929380634), (3238, 0.03485030895801974), (3239, 0.06742431744402343), (3240, 0.004139631759565227), (3241, 0.0), (3242, 0.0), (3243, 0.0), (3244, 0.0), (3245, 0.012485326684733046), (3246, 0.01653725851163348), (3247, 0.0), (3248, 0.0), (3249, 0.0), (3250, 0.0), (3251, 0.007341973056577753), (3252, 0.0), (3253, 0.03272306088402485), (3254, 0.058605818291875715), (3255, 0.0), (3256, 0.008965647411354144), (3257, 0.017409874060681747), (3258, 0.0), (3259, 0.004245452758604517), (3260, 0.0045474438840442935), (3261, 0.0), (3262, 0.0), (3263, 0.01875052628797484), (3264, 0.0), (3265, 0.0), (3266, 0.01598402730789453), (3267, 0.012341995977840784), (3268, 0.0), (3269, 0.0), (3270, 0.021072126992966823), (3271, 0.0), (3272, 0.0), (3273, 0.017985392180000864), (3274, 0.01774888673206357), (3275, 0.0), (3276, 0.008423028286091259), (3277, 0.01019246831658486), (3278, 0.0), (3279, 0.01354056091580882), (3280, 0.0), (3281, 0.013981009427564375), (3282, 0.0), (3283, 0.0), (3284, 0.005279890164286814), (3285, 0.040990123134459905), (3286, 0.010790739724517285), (3287, 0.035143437681465085), (3288, 0.0), (3289, 0.0), (3290, 0.01566068264044721), (3291, 0.010551632810135169), (3292, 0.0), (3293, 0.00982673933905946), (3294, 0.0), (3295, 0.0), (3296, 0.033675654684480145), (3297, 0.03029524709103572), (3298, 0.0), (3299, 0.005254605786499741), (3300, 0.0), (3301, 0.01459021107075714), (3302, 0.013136955755690473), (3303, 0.013692680618770034), (3304, 0.006542724883729455), (3305, 0.023940644518213722), (3306, 0.004959026461184577), (3307, 0.019690790776962265), (3308, 0.0), (3309, 0.013811720928087044), (3310, 0.0), (3311, 0.030307656931662395), (3312, 0.0), (3313, 0.02249785980431939), (3314, 0.0), (3315, 0.04127614655390718), (3316, 0.005445568391055478), (3317, 0.0), (3318, 0.017860286276660964), (3319, 0.0), (3320, 0.013088058119242156), (3321, 0.0), (3322, 0.02009149981281397), (3323, 0.041811671123430365), (3324, 0.0), (3325, 0.0), (3326, 0.005591432748813818), (3327, 0.0), (3328, 0.014438076809825817), (3329, 0.029541589533418986), (3330, 0.0), (3331, 0.0), (3332, 0.0), (3333, 0.0), (3334, 0.023209578026583563), (3335, 0.0), (3336, 0.009352209022135122), (3337, 0.010296325053749571), (3338, 0.025683687003331453), (3339, 0.0), (3340, 0.02484065529797466), (3341, 0.0), (3342, 0.01141173513107913), (3343, 0.010311799592158041), (3344, 0.0), (3345, 0.00930663646125516), (3346, 0.011327920137993072), (3347, 0.024404703805833615), (3348, 0.0), (3349, 0.014813851234978196), (3350, 0.04914907923204559), (3351, 0.02527111149110556), (3352, 0.02437599559049026), (3353, 0.005990709106489447), (3354, 0.0), (3355, 0.01793877754473137), (3356, 0.0), (3357, 0.0), (3358, 0.008802099871080094), (3359, 0.0071409151905792645), (3360, 0.0), (3361, 0.012408955582345036), (3362, 0.0), (3363, 0.0), (3364, 0.016626946680449887), (3365, 0.0), (3366, 0.014594475200922588), (3367, 0.0), (3368, 0.034204263000720325), (3369, 0.0), (3370, 0.02150377294966064), (3371, 0.0), (3372, 0.05857711450587828), (3373, 0.01280277004919224), (3374, 0.011665005809901983), (3375, 0.0), (3376, 0.029603796338339837), (3377, 0.0), (3378, 0.0), (3379, 0.0), (3380, 0.0), (3381, 0.016969872664356674), (3382, 0.005181103958516817), (3383, 0.02036332372810304), (3384, 0.0), (3385, 0.013669591766366451), (3386, 0.014680160125746092), (3387, 0.0), (3388, 0.0), (3389, 0.0), (3390, 0.03242506739651674), (3391, 0.0), (3392, 0.0), (3393, 0.0), (3394, 0.022580147050962267), (3395, 0.0), (3396, 0.009027586120334486), (3397, 0.0), (3398, 0.0), (3399, 0.0035107651331924322), (3400, 0.0), (3401, 0.024637895839843896), (3402, 0.0), (3403, 0.0), (3404, 0.0), (3405, 0.05031833496650397), (3406, 0.030477201074453647), (3407, 0.0), (3408, 0.0), (3409, 0.028094397582636276), (3410, 0.0), (3411, 0.0), (3412, 0.004400304930575012), (3413, 0.011614369041301375), (3414, 0.04433151472230934), (3415, 0.0), (3416, 0.003070365495045467), (3417, 0.049795016128672716), (3418, 0.011210925092274455), (3419, 0.0), (3420, 0.0), (3421, 0.010211265118615885), (3422, 0.0), (3423, 0.0), (3424, 0.024647725621749637), (3425, 0.0), (3426, 0.0), (3427, 0.0452409423652972), (3428, 0.0), (3429, 0.04681243073442563), (3430, 0.0), (3431, 0.0), (3432, 0.0), (3433, 0.0), (3434, 0.0), (3435, 0.0), (3436, 0.04525273689700467), (3437, 0.006919694103306726), (3438, 0.0), (3439, 0.10865352276795183), (3440, 0.01232860168726009), (3441, 0.0), (3442, 0.012236391008356615), (3443, 0.0), (3444, 0.016181064588904295), (3445, 0.07208121672246376), (3446, 0.011495165523119157), (3447, 0.019531918700815495), (3448, 0.0), (3449, 0.011662031983654252), (3450, 0.05343705537610746), (3451, 0.019423769099516888), (3452, 0.0), (3453, 0.0), (3454, 0.01618326407330152), (3455, 0.0), (3456, 0.0), (3457, 0.0), (3458, 0.010981437618489144), (3459, 0.0), (3460, 0.012116218119901531), (3461, 0.0), (3462, 0.006219583947071354), (3463, 0.004437435900252551), (3464, 0.014046503430262699), (3465, 0.015278924065310522), (3466, 0.014381826834877482), (3467, 0.0), (3468, 0.0), (3469, 0.0), (3470, 0.0), (3471, 0.0), (3472, 0.02115661112380541), (3473, 0.0), (3474, 0.05898765312488491), (3475, 0.0), (3476, 0.0), (3477, 0.008399172504351205), (3478, 0.0), (3479, 0.0), (3480, 0.0), (3481, 0.0), (3482, 0.0), (3483, 0.02605047779256174), (3484, 0.05309605541828879), (3485, 0.007773836769063165), (3486, 0.0), (3487, 0.0), (3488, 0.0), (3489, 0.0), (3490, 0.012393253461769628), (3491, 0.015572375024894445), (3492, 0.0040232837986629785), (3493, 0.0), (3494, 0.03461738952189777), (3495, 0.011352954271321944), (3496, 0.0), (3497, 0.0), (3498, 0.0), (3499, 0.0), (3500, 0.007533582720858182), (3501, 0.03981397321051724), (3502, 0.0), (3503, 0.029369479904883554), (3504, 0.0), (3505, 0.026261822139479012), (3506, 0.0), (3507, 0.007356825868344697), (3508, 0.02904393770393545), (3509, 0.005237184978583088), (3510, 0.0), (3511, 0.005388303862418026), (3512, 0.009072253185057812), (3513, 0.0), (3514, 0.027405765686662566), (3515, 0.0), (3516, 0.039354128474091206), (3517, 0.0), (3518, 0.0044569657942740044), (3519, 0.0), (3520, 0.03663611739121982), (3521, 0.0), (3522, 0.013480556375955912), (3523, 0.005907423999395643), (3524, 0.0), (3525, 0.0), (3526, 0.0), (3527, 0.050924353955739625), (3528, 0.021809900695555155), (3529, 0.08031932516833079), (3530, 0.0), (3531, 0.0), (3532, 0.01406987902721818), (3533, 0.01462578921624369), (3534, 0.04958506950035684), (3535, 0.0), (3536, 0.0), (3537, 0.0), (3538, 0.03251541178825835), (3539, 0.018658634613228173), (3540, 0.0), (3541, 0.0), (3542, 0.0), (3543, 0.02124623438219156), (3544, 0.0), (3545, 0.00439837724783792), (3546, 0.010217947561795313), (3547, 0.0), (3548, 0.016690846828204563), (3549, 0.01803323440367948), (3550, 0.0), (3551, 0.0), (3552, 0.027420231671906093), (3553, 0.003128061249258167), (3554, 0.0), (3555, 0.0), (3556, 0.006910253575172655), (3557, 0.0), (3558, 0.021893066567092077), (3559, 0.014433544257649585), (3560, 0.00938595341185852), (3561, 0.0), (3562, 0.0), (3563, 0.0), (3564, 0.016090246074392273), (3565, 0.0), (3566, 0.013004568288190526), (3567, 0.021956575284124483), (3568, 0.038021370080455655), (3569, 0.02321537837031137), (3570, 0.0), (3571, 0.013151329142797484), (3572, 0.0), (3573, 0.017800662707816536), (3574, 0.0), (3575, 0.0), (3576, 0.025275996124051497), (3577, 0.01886869339782404), (3578, 0.0), (3579, 0.07541516295546974), (3580, 0.0), (3581, 0.0061324028544899), (3582, 0.021187257289701396), (3583, 0.0), (3584, 0.021217505842263423), (3585, 0.0), (3586, 0.006666398291912215), (3587, 0.021077000689287504), (3588, 0.005035496848315448), (3589, 0.0), (3590, 0.03068823863122593), (3591, 0.01962991284231635), (3592, 0.006069502570990438), (3593, 0.030799407279937907), (3594, 0.0), (3595, 0.0), (3596, 0.004835641163840305), (3597, 0.0), (3598, 0.0), (3599, 0.038871001488100534), (3600, 0.0), (3601, 0.0), (3602, 0.0), (3603, 0.028890413764038378), (3604, 0.017188075687555773), (3605, 0.0), (3606, 0.004366164967991466), (3607, 0.0815823963168162), (3608, 0.0), (3609, 0.0), (3610, 0.0), (3611, 0.0), (3612, 0.010927748978982512), (3613, 0.03412117919203009), (3614, 0.014191103999495209), (3615, 0.0), (3616, 0.0644930148257363), (3617, 0.016422943446916367), (3618, 0.031909508192829776), (3619, 0.012448212253159558), (3620, 0.016794458845442947), (3621, 0.0), (3622, 0.006188263782266642), (3623, 0.005143190118270492), (3624, 0.028046615223976907), (3625, 0.00832541025469814), (3626, 0.037476685892795285), (3627, 0.012340209252354142), (3628, 0.030835571001103464), (3629, 0.021579074786993408), (3630, 0.006013331348208235), (3631, 0.03457274753243425), (3632, 0.0), (3633, 0.0), (3634, 0.058472665454380915), (3635, 0.0), (3636, 0.0), (3637, 0.0), (3638, 0.03972228599618184), (3639, 0.0), (3640, 0.0), (3641, 0.0), (3642, 0.027046656003426373), (3643, 0.0), (3644, 0.01134375578402908), (3645, 0.009509241865251698), (3646, 0.0), (3647, 0.04016548185530082), (3648, 0.01196812428118091), (3649, 0.0), (3650, 0.01925106687921202), (3651, 0.0), (3652, 0.0061076011525288635), (3653, 0.0), (3654, 0.0), (3655, 0.0), (3656, 0.008869275652323337), (3657, 0.0), (3658, 0.0), (3659, 0.013356961873074825), (3660, 0.0), (3661, 0.018533937948977283), (3662, 0.006294283668844172), (3663, 0.0), (3664, 0.0), (3665, 0.0), (3666, 0.0), (3667, 0.00550736501203122), (3668, 0.04357743707824561), (3669, 0.0), (3670, 0.0), (3671, 0.010463670050865397), (3672, 0.0), (3673, 0.0), (3674, 0.0), (3675, 0.0), (3676, 0.0), (3677, 0.0), (3678, 0.0), (3679, 0.054720944537836574), (3680, 0.034622571474827904), (3681, 0.02419024788580229), (3682, 0.013719370385189413), (3683, 0.03145423060746289), (3684, 0.046322435223991196), (3685, 0.014435944043401427), (3686, 0.0), (3687, 0.0), (3688, 0.013518868081103298), (3689, 0.005664164511441311), (3690, 0.0), (3691, 0.014276466549915164), (3692, 0.019084256180558732), (3693, 0.021293043284839518), (3694, 0.0), (3695, 0.02666738052808056), (3696, 0.0), (3697, 0.0), (3698, 0.051028017471711706), (3699, 0.0), (3700, 0.03735700466544423), (3701, 0.0), (3702, 0.049930822572806385), (3703, 0.0), (3704, 0.028443992423031632), (3705, 0.0), (3706, 0.009817963020392903), (3707, 0.005603313782364337), (3708, 0.0), (3709, 0.005503705579812677), (3710, 0.0), (3711, 0.0), (3712, 0.0), (3713, 0.0), (3714, 0.006928953801751761), (3715, 0.03236714551466376), (3716, 0.0), (3717, 0.02552480455033966), (3718, 0.0), (3719, 0.0), (3720, 0.030492193571504577), (3721, 0.0), (3722, 0.01245420598616979), (3723, 0.0), (3724, 0.0077569077806636), (3725, 0.0039109746504424), (3726, 0.052749278920544616), (3727, 0.0), (3728, 0.025270140788625075), (3729, 0.0), (3730, 0.10146231299797441), (3731, 0.0), (3732, 0.0), (3733, 0.022505399113062027), (3734, 0.029635215808705803), (3735, 0.01076076694995219), (3736, 0.007476121919691061), (3737, 0.009096703709279017), (3738, 0.0), (3739, 0.0), (3740, 0.005804006721648372), (3741, 0.027992163008325337), (3742, 0.0), (3743, 0.014725916522272795), (3744, 0.0), (3745, 0.0), (3746, 0.0), (3747, 0.0), (3748, 0.020667750382215182), (3749, 0.010660099264031029), (3750, 0.02100973375510018), (3751, 0.023090130255807913), (3752, 0.0), (3753, 0.01366464784429338), (3754, 0.02605535449638763), (3755, 0.0037756709993606117), (3756, 0.03933414420633574), (3757, 0.010848244393736314), (3758, 0.0034384185474712835), (3759, 0.0), (3760, 0.0), (3761, 0.0409260703941487), (3762, 0.03754068923004425), (3763, 0.0), (3764, 0.05212426708096178), (3765, 0.027891474726595047), (3766, 0.026687078382938323), (3767, 0.035463477307042246), (3768, 0.0), (3769, 0.006938095631907807), (3770, 0.0056859991380190595), (3771, 0.008472068802955608), (3772, 0.0), (3773, 0.0), (3774, 0.005359800112727562), (3775, 0.0565370069488282), (3776, 0.03087822628751343), (3777, 0.011187632450267717), (3778, 0.006926198551920775), (3779, 0.01843403154734666), (3780, 0.0), (3781, 0.0), (3782, 0.0224970362785794), (3783, 0.0), (3784, 0.011709304748047416), (3785, 0.0), (3786, 0.0), (3787, 0.0), (3788, 0.0), (3789, 0.0), (3790, 0.0), (3791, 0.04549095403919815), (3792, 0.0), (3793, 0.0), (3794, 0.0), (3795, 0.01808751305660923), (3796, 0.0), (3797, 0.0), (3798, 0.014241899377810164), (3799, 0.010127940863725425), (3800, 0.022475817984581228), (3801, 0.0), (3802, 0.01879110883116802), (3803, 0.0), (3804, 0.011784948779564973), (3805, 0.0), (3806, 0.0), (3807, 0.0), (3808, 0.0), (3809, 0.0), (3810, 0.008866965464734984), (3811, 0.0), (3812, 0.027582609488101158), (3813, 0.051510379442669826), (3814, 0.0), (3815, 0.07056286834587955), (3816, 0.0056116149464243365), (3817, 0.0), (3818, 0.0), (3819, 0.004588909194501978), (3820, 0.0), (3821, 0.0556112920115373), (3822, 0.0), (3823, 0.0), (3824, 0.006818674666411699), (3825, 0.0), (3826, 0.00562524298574948), (3827, 0.0), (3828, 0.0175715776549447), (3829, 0.02482861212831381), (3830, 0.005554278577017192), (3831, 0.0), (3832, 0.026966399961673212), (3833, 0.01722253349392098), (3834, 0.0), (3835, 0.0), (3836, 0.038218946045241085), (3837, 0.03660884755821387), (3838, 0.0), (3839, 0.0), (3840, 0.02258364501739905), (3841, 0.012068572493018891), (3842, 0.004607370043077502), (3843, 0.0), (3844, 0.024192640941459863), (3845, 0.014005971478844682), (3846, 0.0), (3847, 0.0), (3848, 0.00659497832006378), (3849, 0.0), (3850, 0.0), (3851, 0.0036743295157402), (3852, 0.0), (3853, 0.0), (3854, 0.01698963144432103), (3855, 0.0), (3856, 0.013077427504070573), (3857, 0.005943321100662936), (3858, 0.0), (3859, 0.0), (3860, 0.05205618838287681), (3861, 0.012023306499468539), (3862, 0.0), (3863, 0.0), (3864, 0.037277999849687625), (3865, 0.018055398708852973), (3866, 0.0), (3867, 0.006663971555701793), (3868, 0.012488246866010445), (3869, 0.0), (3870, 0.006442932345963288), (3871, 0.0), (3872, 0.0), (3873, 0.07802999900739585), (3874, 0.0424157937462107), (3875, 0.0), (3876, 0.020789989929131693), (3877, 0.0), (3878, 0.031815236857698395), (3879, 0.01099926737724434), (3880, 0.0), (3881, 0.02136359354953776), (3882, 0.005880250892181186), (3883, 0.03308897286233006), (3884, 0.008105315864605606), (3885, 0.02407755911189397), (3886, 0.0), (3887, 0.0), (3888, 0.0101077157856342), (3889, 0.0), (3890, 0.0), (3891, 0.012933006246090622), (3892, 0.0), (3893, 0.0), (3894, 0.0), (3895, 0.006458954017373598), (3896, 0.0), (3897, 0.0), (3898, 0.0), (3899, 0.06465617911451085), (3900, 0.0), (3901, 0.06145360332536275), (3902, 0.0), (3903, 0.06953537149569576), (3904, 0.009663766855057591), (3905, 0.013736527354033894), (3906, 0.0), (3907, 0.009668534241737664), (3908, 0.01162604272815756), (3909, 0.0), (3910, 0.0), (3911, 0.0), (3912, 0.0067586899393267345), (3913, 0.0), (3914, 0.08945242277848575), (3915, 0.0), (3916, 0.01821648258913446), (3917, 0.0), (3918, 0.0), (3919, 0.008646233320192716), (3920, 0.019014285838039532), (3921, 0.0), (3922, 0.0), (3923, 0.012754533360350737), (3924, 0.017225343816280925), (3925, 0.03689888113844896), (3926, 0.0), (3927, 0.0), (3928, 0.0), (3929, 0.025395434638805368), (3930, 0.0), (3931, 0.013632033215283914), (3932, 0.0), (3933, 0.0), (3934, 0.04188546266536589), (3935, 0.01352097602358634), (3936, 0.04271031264643595), (3937, 0.0), (3938, 0.0), (3939, 0.0), (3940, 0.033368267938662474), (3941, 0.005632515686496008), (3942, 0.004249376178682996), (3943, 0.006545120275067378), (3944, 0.0), (3945, 0.006151172719666528), (3946, 0.0), (3947, 0.0), (3948, 0.027086070763714144), (3949, 0.0), (3950, 0.0), (3951, 0.0), (3952, 0.0), (3953, 0.01745381976287632), (3954, 0.0), (3955, 0.021852232037033716), (3956, 0.01812930353026339), (3957, 0.0), (3958, 0.0), (3959, 0.019575100968486095), (3960, 0.0), (3961, 0.0), (3962, 0.005587259477923418), (3963, 0.0), (3964, 0.0), (3965, 0.0), (3966, 0.04341956881610598), (3967, 0.0), (3968, 0.0), (3969, 0.0), (3970, 0.012036787179638053), (3971, 0.0), (3972, 0.0048030872486126966), (3973, 0.0), (3974, 0.008861482015928122), (3975, 0.0), (3976, 0.0), (3977, 0.0), (3978, 0.0), (3979, 0.0), (3980, 0.0), (3981, 0.05684739866379884), (3982, 0.004251465261771771), (3983, 0.014343564707861875), (3984, 0.006706986464866236), (3985, 0.0), (3986, 0.03832353134536416), (3987, 0.03717972711336756), (3988, 0.04624558230736844), (3989, 0.0), (3990, 0.0), (3991, 0.019096915465791973), (3992, 0.0), (3993, 0.02435674968314365), (3994, 0.018344294119870486), (3995, 0.0), (3996, 0.0), (3997, 0.0), (3998, 0.011968502739617574), (3999, 0.0), (4000, 0.014119326378086711), (4001, 0.0), (4002, 0.0), (4003, 0.017511781318403027), (4004, 0.01415094488432329), (4005, 0.0), (4006, 0.0), (4007, 0.0), (4008, 0.007487702748056835), (4009, 0.0), (4010, 0.0), (4011, 0.01855384963585432), (4012, 0.010255397453038613), (4013, 0.022018592598546556), (4014, 0.036450199072729984), (4015, 0.0), (4016, 0.01301146349187365), (4017, 0.03285710431115749), (4018, 0.0), (4019, 0.0), (4020, 0.016075523663702133), (4021, 0.0), (4022, 0.007075820260420971), (4023, 0.0), (4024, 0.05568522212462525), (4025, 0.0), (4026, 0.0), (4027, 0.05228814365333072), (4028, 0.011580921402465843), (4029, 0.0), (4030, 0.0), (4031, 0.0), (4032, 0.02635122612711846), (4033, 0.005243214032808565), (4034, 0.0), (4035, 0.0), (4036, 0.0), (4037, 0.03323375910077972), (4038, 0.0), (4039, 0.06439270481260066), (4040, 0.0), (4041, 0.028314482957284563), (4042, 0.018951577685485346), (4043, 0.0), (4044, 0.0), (4045, 0.03525301624945929), (4046, 0.0), (4047, 0.0), (4048, 0.03225747059650822), (4049, 0.03788463378123004), (4050, 0.006079551130829893), (4051, 0.0), (4052, 0.0), (4053, 0.013037855807665954), (4054, 0.0), (4055, 0.015543560397382822), (4056, 0.0), (4057, 0.0), (4058, 0.0), (4059, 0.0), (4060, 0.0), (4061, 0.013045587650962174), (4062, 0.07923339560293371), (4063, 0.0), (4064, 0.0), (4065, 0.0), (4066, 0.0), (4067, 0.0), (4068, 0.0), (4069, 0.00557291048451868), (4070, 0.005438700984248208), (4071, 0.06590549532318742), (4072, 0.0), (4073, 0.06749960579579739), (4074, 0.0), (4075, 0.0), (4076, 0.0), (4077, 0.012762290326512703), (4078, 0.02132493133154437), (4079, 0.01275221468134403), (4080, 0.015084023463606015), (4081, 0.030490968647922806), (4082, 0.0), (4083, 0.0), (4084, 0.013722843513078653), (4085, 0.0063212558975982245), (4086, 0.0), (4087, 0.0), (4088, 0.011426801717395591), (4089, 0.0), (4090, 0.0), (4091, 0.0), (4092, 0.0), (4093, 0.005638917836925396), (4094, 0.0), (4095, 0.0), (4096, 0.0038883907422971997), (4097, 0.06426900727476964), (4098, 0.030215758396402836), (4099, 0.01467093979693373), (4100, 0.0), (4101, 0.0), (4102, 0.017807905537066356), (4103, 0.019360237997906184), (4104, 0.0), (4105, 0.009824651164469615), (4106, 0.04417909289472441), (4107, 0.0), (4108, 0.05136021436795261), (4109, 0.026501753012162472), (4110, 0.011783444616129303), (4111, 0.0063052944425128045), (4112, 0.0), (4113, 0.01220464525650884), (4114, 0.03653391872349651), (4115, 0.0), (4116, 0.0), (4117, 0.01894890573709869), (4118, 0.0), (4119, 0.012563474126285912), (4120, 0.0), (4121, 0.0), (4122, 0.0), (4123, 0.0), (4124, 0.0060008094277901), (4125, 0.02391411318121594), (4126, 0.0), (4127, 0.02554164403193382), (4128, 0.008439319315437118), (4129, 0.026312157229609365), (4130, 0.018716114740890962), (4131, 0.006857059477184162), (4132, 0.011677464148614146), (4133, 0.0), (4134, 0.012282079650486223), (4135, 0.027900303469473794), (4136, 0.015308521934017076), (4137, 0.0), (4138, 0.0), (4139, 0.0), (4140, 0.0), (4141, 0.0), (4142, 0.0), (4143, 0.014255970428735484), (4144, 0.0), (4145, 0.0), (4146, 0.037010064116213215), (4147, 0.0), (4148, 0.0), (4149, 0.06667508566621319), (4150, 0.0), (4151, 0.0), (4152, 0.0), (4153, 0.0), (4154, 0.0), (4155, 0.022259530742738835), (4156, 0.008658349153863648), (4157, 0.0), (4158, 0.0), (4159, 0.0066718579351619746), (4160, 0.027803619849090598), (4161, 0.0), (4162, 0.041150047982247015), (4163, 0.029035657979934997), (4164, 0.007531090382171566), (4165, 0.0), (4166, 0.0), (4167, 0.03727218212342473), (4168, 0.0), (4169, 0.0), (4170, 0.0), (4171, 0.0), (4172, 0.017133570568263274), (4173, 0.011166710453994842), (4174, 0.0), (4175, 0.027413269484193488), (4176, 0.052098383793988644), (4177, 0.0), (4178, 0.0), (4179, 0.0), (4180, 0.0), (4181, 0.015182571624567546), (4182, 0.037999778077654145), (4183, 0.02887129188157074), (4184, 0.0), (4185, 0.0), (4186, 0.0), (4187, 0.015447255410079866), (4188, 0.0), (4189, 0.018833264612750113), (4190, 0.0), (4191, 0.005666285429809908), (4192, 0.006056766234737774), (4193, 0.08504557743270248), (4194, 0.0), (4195, 0.0), (4196, 0.0), (4197, 0.0065578032208703655), (4198, 0.0), (4199, 0.027588764477065167), (4200, 0.01071581014762504), (4201, 0.03406974530958927), (4202, 0.028601364038455743), (4203, 0.0), (4204, 0.011843438194961), (4205, 0.0), (4206, 0.0), (4207, 0.02518501300683418), (4208, 0.0), (4209, 0.03809279344879714), (4210, 0.0), (4211, 0.008289382692233277), (4212, 0.0), (4213, 0.0), (4214, 0.0), (4215, 0.025626054677068043), (4216, 0.04179001570937467), (4217, 0.0), (4218, 0.0), (4219, 0.0), (4220, 0.0048226127917184005), (4221, 0.0063603474729860025), (4222, 0.07194741624635959), (4223, 0.014546325612165288), (4224, 0.013891734517226497), (4225, 0.025757100008717122), (4226, 0.0), (4227, 0.0), (4228, 0.010861373652926042), (4229, 0.0), (4230, 0.005644983443888888), (4231, 0.047851954348963804), (4232, 0.016376728023555134), (4233, 0.005965332972372852), (4234, 0.02162726827431312), (4235, 0.0), (4236, 0.0), (4237, 0.03517909695682538), (4238, 0.042676314715738566), (4239, 0.024562872909682214), (4240, 0.0), (4241, 0.0), (4242, 0.0), (4243, 0.0), (4244, 0.0), (4245, 0.025876104508562713), (4246, 0.0), (4247, 0.0), (4248, 0.0), (4249, 0.02033262235930653), (4250, 0.0), (4251, 0.018036684889489674), (4252, 0.0), (4253, 0.0), (4254, 0.009703952525030236), (4255, 0.0), (4256, 0.006777613137835278), (4257, 0.0), (4258, 0.006425412869239331), (4259, 0.03935477152272499), (4260, 0.0), (4261, 0.021963424861029), (4262, 0.009404827077649882), (4263, 0.029866522675013298), (4264, 0.016113998288986946), (4265, 0.0), (4266, 0.0), (4267, 0.011202743403007209), (4268, 0.0), (4269, 0.0), (4270, 0.0), (4271, 0.0), (4272, 0.008519059542377642), (4273, 0.0), (4274, 0.014164154691377582), (4275, 0.0), (4276, 0.13197329258545892), (4277, 0.007107105534473163), (4278, 0.0), (4279, 0.026075642450723652), (4280, 0.0), (4281, 0.0260146409884777), (4282, 0.006891645308895825), (4283, 0.02924861897664742), (4284, 0.006355493682661275), (4285, 0.0), (4286, 0.06793391932224153), (4287, 0.016218697795741314), (4288, 0.0), (4289, 0.026540332764394253), (4290, 0.0), (4291, 0.0), (4292, 0.0), (4293, 0.0), (4294, 0.0), (4295, 0.03660370110713086), (4296, 0.0), (4297, 0.0), (4298, 0.04006167184919634), (4299, 0.0), (4300, 0.0), (4301, 0.053383912803495165), (4302, 0.029511737725147827), (4303, 0.0), (4304, 0.0), (4305, 0.0), (4306, 0.0), (4307, 0.0), (4308, 0.0), (4309, 0.0), (4310, 0.0), (4311, 0.0), (4312, 0.014808575948519356), (4313, 0.0), (4314, 0.0), (4315, 0.022472742864420338), (4316, 0.003492987568383032), (4317, 0.011794178693545146), (4318, 0.0), (4319, 0.023227034757450783), (4320, 0.02266992040161642), (4321, 0.04450690345165049), (4322, 0.0), (4323, 0.0), (4324, 0.026877433442832683), (4325, 0.024185086361255943), (4326, 0.018130958800309405), (4327, 0.02431323236215173), (4328, 0.0), (4329, 0.0), (4330, 0.0), (4331, 0.07158876628667293), (4332, 0.04117935589414671), (4333, 0.0), (4334, 0.0), (4335, 0.0035459519802254987), (4336, 0.0), (4337, 0.016226513810899585), (4338, 0.0), (4339, 0.02008231532302517), (4340, 0.013889507731043815), (4341, 0.0), (4342, 0.0), (4343, 0.011152462231973923), (4344, 0.015979602026078066), (4345, 0.019081641291439366), (4346, 0.0), (4347, 0.0), (4348, 0.0), (4349, 0.0043684206113197895), (4350, 0.011996028934170727), (4351, 0.003763616495741415), (4352, 0.020323628029940904), (4353, 0.009787548884594849), (4354, 0.0), (4355, 0.042080287335701225), (4356, 0.011402947928479736), (4357, 0.0), (4358, 0.0), (4359, 0.0), (4360, 0.0), (4361, 0.02633027324842722), (4362, 0.0), (4363, 0.0), (4364, 0.0), (4365, 0.011082467493338936), (4366, 0.019513013375393046), (4367, 0.0), (4368, 0.050824752945684226), (4369, 0.06860510363841106), (4370, 0.0), (4371, 0.03227414310972489), (4372, 0.0), (4373, 0.012562925775611545), (4374, 0.0), (4375, 0.0673814078003275), (4376, 0.03590504890793713), (4377, 0.0), (4378, 0.037386639360822545), (4379, 0.008557572691397135), (4380, 0.02327462664504691), (4381, 0.03908745973984446), (4382, 0.0), (4383, 0.03248220104709045), (4384, 0.0), (4385, 0.0), (4386, 0.023100547181606187), (4387, 0.0), (4388, 0.0), (4389, 0.0), (4390, 0.01111721915246394), (4391, 0.006037001004549884), (4392, 0.10094061148832804), (4393, 0.0323193950035445), (4394, 0.0051771482963010335), (4395, 0.00700297082933075), (4396, 0.0), (4397, 0.009997411579396669), (4398, 0.006720879153307388), (4399, 0.024736923204393767), (4400, 0.0), (4401, 0.07207409894946823), (4402, 0.003181185265645776), (4403, 0.0), (4404, 0.0), (4405, 0.0), (4406, 0.023591881375386602), (4407, 0.0), (4408, 0.01728266984741477), (4409, 0.0), (4410, 0.0), (4411, 0.0), (4412, 0.0), (4413, 0.0), (4414, 0.0), (4415, 0.0), (4416, 0.0), (4417, 0.0), (4418, 0.0), (4419, 0.0), (4420, 0.0), (4421, 0.0), (4422, 0.0), (4423, 0.006885844816815866), (4424, 0.0), (4425, 0.015708183264018884), (4426, 0.0), (4427, 0.006404086582945385), (4428, 0.017340930032864132), (4429, 0.0), (4430, 0.0), (4431, 0.0), (4432, 0.04817605550072501), (4433, 0.0), (4434, 0.0), (4435, 0.0), (4436, 0.0), (4437, 0.0), (4438, 0.0), (4439, 0.01243865401820171), (4440, 0.009560253631526917), (4441, 0.02355789995802789), (4442, 0.010883983522247934), (4443, 0.0), (4444, 0.0), (4445, 0.0), (4446, 0.0), (4447, 0.0), (4448, 0.06482075401599702), (4449, 0.02046984883532868), (4450, 0.01517727891083899), (4451, 0.0), (4452, 0.0), (4453, 0.0), (4454, 0.0), (4455, 0.0), (4456, 0.0), (4457, 0.012819712633148846), (4458, 0.0), (4459, 0.0), (4460, 0.005946077078537435), (4461, 0.014527369673602134), (4462, 0.0), (4463, 0.02323860958478707), (4464, 0.0), (4465, 0.05724820615164406), (4466, 0.010635444260315775), (4467, 0.0), (4468, 0.0), (4469, 0.0), (4470, 0.007606232443494588), (4471, 0.0), (4472, 0.0), (4473, 0.0), (4474, 0.0), (4475, 0.013172549471137801), (4476, 0.0), (4477, 0.0), (4478, 0.0), (4479, 0.026736279545948927), (4480, 0.0), (4481, 0.008658333481231939), (4482, 0.006955475471782556), (4483, 0.0062710072277565605), (4484, 0.0), (4485, 0.0), (4486, 0.0), (4487, 0.013854974247199137), (4488, 0.0), (4489, 0.0), (4490, 0.0), (4491, 0.0), (4492, 0.0), (4493, 0.0), (4494, 0.0), (4495, 0.0), (4496, 0.027498690639998363), (4497, 0.01957195932754986), (4498, 0.035051357027528283), (4499, 0.01722070186568659), (4500, 0.0), (4501, 0.0382954813479235), (4502, 0.0), (4503, 0.0), (4504, 0.0), (4505, 0.0), (4506, 0.013714273131946163), (4507, 0.038969494065827205), (4508, 0.0), (4509, 0.014272251501399944), (4510, 0.0), (4511, 0.0383327171005105), (4512, 0.0), (4513, 0.007935031233990242), (4514, 0.0), (4515, 0.005612898458771324), (4516, 0.006439944850877791), (4517, 0.0), (4518, 0.014395041642727271), (4519, 0.0), (4520, 0.0), (4521, 0.0), (4522, 0.0), (4523, 0.0), (4524, 0.01055760297325111), (4525, 0.0), (4526, 0.06058061313504986), (4527, 0.021424513287896678), (4528, 0.013807577930538361), (4529, 0.0), (4530, 0.0), (4531, 0.0), (4532, 0.0), (4533, 0.0), (4534, 0.0), (4535, 0.028627625651928522), (4536, 0.0), (4537, 0.0), (4538, 0.0233699214992929), (4539, 0.06355659691424259), (4540, 0.0), (4541, 0.0), (4542, 0.005300709056716988), (4543, 0.0), (4544, 0.0), (4545, 0.01114403444332331), (4546, 0.0061226359138955265), (4547, 0.0), (4548, 0.0), (4549, 0.005493578299595742), (4550, 0.0), (4551, 0.0), (4552, 0.0), (4553, 0.0), (4554, 0.005997235296991825), (4555, 0.014515607854387262), (4556, 0.0), (4557, 0.0), (4558, 0.0), (4559, 0.0), (4560, 0.0), (4561, 0.0), (4562, 0.0), (4563, 0.02562449596362963), (4564, 0.0), (4565, 0.013014564869689115), (4566, 0.0), (4567, 0.0), (4568, 0.0), (4569, 0.0), (4570, 0.0), (4571, 0.0), (4572, 0.012632452925424939), (4573, 0.012232178831955926), (4574, 0.0), (4575, 0.0), (4576, 0.0), (4577, 0.0), (4578, 0.0), (4579, 0.03311433458040097), (4580, 0.01566733503021279), (4581, 0.0), (4582, 0.0), (4583, 0.04344725703488522), (4584, 0.0), (4585, 0.04090264475722486), (4586, 0.02536741560543576), (4587, 0.00908481310245643), (4588, 0.0), (4589, 0.0), (4590, 0.0), (4591, 0.0), (4592, 0.039393176192804594), (4593, 0.057241690697210086), (4594, 0.017926937865041216), (4595, 0.0), (4596, 0.024993215479334703), (4597, 0.037387407089564846), (4598, 0.0), (4599, 0.014399258919549553), (4600, 0.0), (4601, 0.010010663730453319), (4602, 0.0), (4603, 0.0), (4604, 0.0222398535111801), (4605, 0.01753922130925841), (4606, 0.0), (4607, 0.0), (4608, 0.07361837922502704), (4609, 0.0), (4610, 0.01609279215227636), (4611, 0.0), (4612, 0.0), (4613, 0.03361885499619844), (4614, 0.0), (4615, 0.0), (4616, 0.0), (4617, 0.0), (4618, 0.0), (4619, 0.0), (4620, 0.014155093739215792), (4621, 0.006042317862565697), (4622, 0.0), (4623, 0.011260527274825634), (4624, 0.0), (4625, 0.0060935049587205825), (4626, 0.02533602107503646), (4627, 0.0), (4628, 0.0), (4629, 0.0), (4630, 0.0), (4631, 0.010891719562122986), (4632, 0.0), (4633, 0.0), (4634, 0.0), (4635, 0.0), (4636, 0.0), (4637, 0.03843359221438294), (4638, 0.03525739744407015), (4639, 0.005693249772803778), (4640, 0.0), (4641, 0.0), (4642, 0.013324144854236015), (4643, 0.0), (4644, 0.03082841352353175), (4645, 0.0), (4646, 0.05651571166469165), (4647, 0.014980847110907667), (4648, 0.027539716210289476), (4649, 0.009733000438838275), (4650, 0.012202329999898452), (4651, 0.009290026818255342), (4652, 0.0), (4653, 0.0), (4654, 0.0064416241117279125), (4655, 0.0), (4656, 0.02225374185190096), (4657, 0.0), (4658, 0.01813309768397067), (4659, 0.0), (4660, 0.0), (4661, 0.014846705520993528), (4662, 0.0), (4663, 0.0), (4664, 0.04075813363695246), (4665, 0.0), (4666, 0.04192856763967209), (4667, 0.0), (4668, 0.005973764281124749), (4669, 0.014094123764726463), (4670, 0.05276510243703307), (4671, 0.0), (4672, 0.026848385693712836), (4673, 0.01210178108260067), (4674, 0.0), (4675, 0.03534800300375552), (4676, 0.0), (4677, 0.014943938283374642), (4678, 0.050862043695258895), (4679, 0.0625751171677831), (4680, 0.0), (4681, 0.0), (4682, 0.0), (4683, 0.0), (4684, 0.0), (4685, 0.0), (4686, 0.0), (4687, 0.0), (4688, 0.0988772216136724), (4689, 0.0), (4690, 0.0), (4691, 0.009917998761531113), (4692, 0.0), (4693, 0.010730658020229789), (4694, 0.0), (4695, 0.011171535942174082), (4696, 0.01645157693846745), (4697, 0.0), (4698, 0.0), (4699, 0.0), (4700, 0.00855638827334068), (4701, 0.019936005664421996), (4702, 0.0), (4703, 0.021733109048760815), (4704, 0.02045014429315825), (4705, 0.0), (4706, 0.0), (4707, 0.0), (4708, 0.008006206062866493), (4709, 0.0), (4710, 0.0), (4711, 0.0), (4712, 0.0), (4713, 0.0), (4714, 0.0), (4715, 0.008397088506207), (4716, 0.0), (4717, 0.024419397207794628), (4718, 0.012150950883585436), (4719, 0.0), (4720, 0.02174042397380665), (4721, 0.0), (4722, 0.0), (4723, 0.0), (4724, 0.017556896697605223), (4725, 0.0), (4726, 0.037134239971442086), (4727, 0.01383461678412072), (4728, 0.00650129516979626), (4729, 0.0), (4730, 0.038877281919216834), (4731, 0.0), (4732, 0.029870553961871604), (4733, 0.022628304427548294), (4734, 0.014182041020996319), (4735, 0.025281473521990037), (4736, 0.0), (4737, 0.0), (4738, 0.0), (4739, 0.0), (4740, 0.0), (4741, 0.009886881274410918), (4742, 0.018445550041382264), (4743, 0.0), (4744, 0.013120212147593924), (4745, 0.00555883268237923), (4746, 0.0), (4747, 0.0), (4748, 0.0), (4749, 0.02136453882405099), (4750, 0.0), (4751, 0.0), (4752, 0.0), (4753, 0.0), (4754, 0.0), (4755, 0.0), (4756, 0.0), (4757, 0.017534757676202193), (4758, 0.00764403046733645), (4759, 0.0), (4760, 0.015941535956373317), (4761, 0.02932346860086077), (4762, 0.0), (4763, 0.013342277454157503), (4764, 0.01656838275110173), (4765, 0.0), (4766, 0.0), (4767, 0.0121482483442432), (4768, 0.0), (4769, 0.007655455952073515), (4770, 0.0), (4771, 0.0), (4772, 0.016059496957985572), (4773, 0.0), (4774, 0.02022513876257568), (4775, 0.0), (4776, 0.0), (4777, 0.0), (4778, 0.004859871668083052), (4779, 0.0), (4780, 0.0), (4781, 0.0), (4782, 0.028569411179507936), (4783, 0.05327745282868169), (4784, 0.0), (4785, 0.0), (4786, 0.0), (4787, 0.02437525398946447), (4788, 0.0), (4789, 0.0), (4790, 0.0), (4791, 0.0), (4792, 0.0), (4793, 0.0), (4794, 0.0), (4795, 0.013393352960771338), (4796, 0.005939491298313429), (4797, 0.0), (4798, 0.0028064907092516514), (4799, 0.025076703055395888), (4800, 0.0), (4801, 0.0), (4802, 0.0)]\n"
          ]
        }
      ]
    },
    {
      "cell_type": "code",
      "source": [
        "len(similarity_score)"
      ],
      "metadata": {
        "colab": {
          "base_uri": "https://localhost:8080/"
        },
        "id": "yV7jPjv4XOZ9",
        "outputId": "6a0a05f1-1d12-4929-984c-512de6e46d44"
      },
      "execution_count": 37,
      "outputs": [
        {
          "output_type": "execute_result",
          "data": {
            "text/plain": [
              "4803"
            ]
          },
          "metadata": {},
          "execution_count": 37
        }
      ]
    },
    {
      "cell_type": "code",
      "source": [
        "sort = sorted(similarity_score, key = lambda x:x[1], reverse = True)"
      ],
      "metadata": {
        "id": "5WqcrWigZAZ9"
      },
      "execution_count": 54,
      "outputs": []
    },
    {
      "cell_type": "code",
      "source": [
        "print(sort[0])"
      ],
      "metadata": {
        "colab": {
          "base_uri": "https://localhost:8080/"
        },
        "id": "i9kXLxVZaXmF",
        "outputId": "37454235-ab37-414b-c468-4b9e71309fa9"
      },
      "execution_count": 57,
      "outputs": [
        {
          "output_type": "stream",
          "name": "stdout",
          "text": [
            "<class 'tuple'>\n"
          ]
        }
      ]
    },
    {
      "cell_type": "code",
      "source": [
        "i = 1\n",
        "for j in sort:\n",
        "  index = j[0]\n",
        "  rec = movie[movie.index == index]['title'].values[0]\n",
        "  if i < 10:\n",
        "    print(rec)\n",
        "    i += 1\n"
      ],
      "metadata": {
        "id": "09t2rfNlaZ79"
      },
      "execution_count": null,
      "outputs": []
    },
    {
      "cell_type": "code",
      "source": [
        ""
      ],
      "metadata": {
        "id": "2jjXANebtesc"
      },
      "execution_count": null,
      "outputs": []
    }
  ]
}